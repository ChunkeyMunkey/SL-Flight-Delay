{
 "cells": [
  {
   "cell_type": "code",
   "execution_count": 1,
   "id": "d4b6748e-3f42-4ffd-a928-928eacccc790",
   "metadata": {},
   "outputs": [],
   "source": [
    "%matplotlib inline\n",
    "import pandas as pd\n",
    "import matplotlib.pyplot as plt\n",
    "import numpy as np\n",
    "import seaborn as sns\n",
    "\n",
    "import pandas as pd"
   ]
  },
  {
   "cell_type": "code",
   "execution_count": 2,
   "id": "ee75a4e6-d1e9-4d6f-b897-bc2ac3a5fd60",
   "metadata": {},
   "outputs": [],
   "source": [
    "data = pd.read_csv('model_df.csv')"
   ]
  },
  {
   "cell_type": "code",
   "execution_count": 3,
   "id": "572976cc-0171-4ff0-9d1a-f8376a4134b3",
   "metadata": {},
   "outputs": [
    {
     "data": {
      "text/html": [
       "<div>\n",
       "<style scoped>\n",
       "    .dataframe tbody tr th:only-of-type {\n",
       "        vertical-align: middle;\n",
       "    }\n",
       "\n",
       "    .dataframe tbody tr th {\n",
       "        vertical-align: top;\n",
       "    }\n",
       "\n",
       "    .dataframe thead th {\n",
       "        text-align: right;\n",
       "    }\n",
       "</style>\n",
       "<table border=\"1\" class=\"dataframe\">\n",
       "  <thead>\n",
       "    <tr style=\"text-align: right;\">\n",
       "      <th></th>\n",
       "      <th>year</th>\n",
       "      <th>month</th>\n",
       "      <th>mkt_carrier_fl_num</th>\n",
       "      <th>crs_dep_time</th>\n",
       "      <th>taxi_out</th>\n",
       "      <th>taxi_in</th>\n",
       "      <th>crs_arr_time</th>\n",
       "      <th>arr_delay</th>\n",
       "      <th>air_time</th>\n",
       "      <th>distance</th>\n",
       "      <th>weekday</th>\n",
       "      <th>day_of_month</th>\n",
       "      <th>MonthlyDelayCarrier</th>\n",
       "      <th>airline_code</th>\n",
       "      <th>origin_code</th>\n",
       "      <th>dest_code</th>\n",
       "    </tr>\n",
       "  </thead>\n",
       "  <tbody>\n",
       "    <tr>\n",
       "      <th>0</th>\n",
       "      <td>2018</td>\n",
       "      <td>1</td>\n",
       "      <td>5458</td>\n",
       "      <td>1946</td>\n",
       "      <td>14.0</td>\n",
       "      <td>4.0</td>\n",
       "      <td>2120</td>\n",
       "      <td>-6.0</td>\n",
       "      <td>71.0</td>\n",
       "      <td>396.0</td>\n",
       "      <td>0</td>\n",
       "      <td>1</td>\n",
       "      <td>3.494772</td>\n",
       "      <td>0</td>\n",
       "      <td>348</td>\n",
       "      <td>127</td>\n",
       "    </tr>\n",
       "    <tr>\n",
       "      <th>1</th>\n",
       "      <td>2018</td>\n",
       "      <td>1</td>\n",
       "      <td>596</td>\n",
       "      <td>1805</td>\n",
       "      <td>9.0</td>\n",
       "      <td>14.0</td>\n",
       "      <td>2004</td>\n",
       "      <td>0.0</td>\n",
       "      <td>142.0</td>\n",
       "      <td>1044.0</td>\n",
       "      <td>0</td>\n",
       "      <td>1</td>\n",
       "      <td>3.494772</td>\n",
       "      <td>0</td>\n",
       "      <td>166</td>\n",
       "      <td>259</td>\n",
       "    </tr>\n",
       "    <tr>\n",
       "      <th>2</th>\n",
       "      <td>2018</td>\n",
       "      <td>1</td>\n",
       "      <td>599</td>\n",
       "      <td>855</td>\n",
       "      <td>16.0</td>\n",
       "      <td>12.0</td>\n",
       "      <td>1058</td>\n",
       "      <td>2.0</td>\n",
       "      <td>219.0</td>\n",
       "      <td>1477.0</td>\n",
       "      <td>0</td>\n",
       "      <td>1</td>\n",
       "      <td>3.494772</td>\n",
       "      <td>0</td>\n",
       "      <td>79</td>\n",
       "      <td>319</td>\n",
       "    </tr>\n",
       "    <tr>\n",
       "      <th>3</th>\n",
       "      <td>2018</td>\n",
       "      <td>1</td>\n",
       "      <td>600</td>\n",
       "      <td>607</td>\n",
       "      <td>15.0</td>\n",
       "      <td>6.0</td>\n",
       "      <td>810</td>\n",
       "      <td>-14.0</td>\n",
       "      <td>91.0</td>\n",
       "      <td>632.0</td>\n",
       "      <td>0</td>\n",
       "      <td>1</td>\n",
       "      <td>3.494772</td>\n",
       "      <td>0</td>\n",
       "      <td>111</td>\n",
       "      <td>58</td>\n",
       "    </tr>\n",
       "    <tr>\n",
       "      <th>4</th>\n",
       "      <td>2018</td>\n",
       "      <td>1</td>\n",
       "      <td>638</td>\n",
       "      <td>700</td>\n",
       "      <td>24.0</td>\n",
       "      <td>47.0</td>\n",
       "      <td>1010</td>\n",
       "      <td>16.0</td>\n",
       "      <td>261.0</td>\n",
       "      <td>1814.0</td>\n",
       "      <td>0</td>\n",
       "      <td>1</td>\n",
       "      <td>3.494772</td>\n",
       "      <td>0</td>\n",
       "      <td>261</td>\n",
       "      <td>259</td>\n",
       "    </tr>\n",
       "  </tbody>\n",
       "</table>\n",
       "</div>"
      ],
      "text/plain": [
       "   year  month  mkt_carrier_fl_num  crs_dep_time  taxi_out  taxi_in  \\\n",
       "0  2018      1                5458          1946      14.0      4.0   \n",
       "1  2018      1                 596          1805       9.0     14.0   \n",
       "2  2018      1                 599           855      16.0     12.0   \n",
       "3  2018      1                 600           607      15.0      6.0   \n",
       "4  2018      1                 638           700      24.0     47.0   \n",
       "\n",
       "   crs_arr_time  arr_delay  air_time  distance  weekday  day_of_month  \\\n",
       "0          2120       -6.0      71.0     396.0        0             1   \n",
       "1          2004        0.0     142.0    1044.0        0             1   \n",
       "2          1058        2.0     219.0    1477.0        0             1   \n",
       "3           810      -14.0      91.0     632.0        0             1   \n",
       "4          1010       16.0     261.0    1814.0        0             1   \n",
       "\n",
       "   MonthlyDelayCarrier  airline_code  origin_code  dest_code  \n",
       "0             3.494772             0          348        127  \n",
       "1             3.494772             0          166        259  \n",
       "2             3.494772             0           79        319  \n",
       "3             3.494772             0          111         58  \n",
       "4             3.494772             0          261        259  "
      ]
     },
     "execution_count": 3,
     "metadata": {},
     "output_type": "execute_result"
    }
   ],
   "source": [
    "data.head()"
   ]
  },
  {
   "cell_type": "code",
   "execution_count": 4,
   "id": "eaebddce-005c-4722-a632-a4fe625670cf",
   "metadata": {},
   "outputs": [
    {
     "data": {
      "text/plain": [
       "Index(['year', 'month', 'mkt_carrier_fl_num', 'crs_dep_time', 'taxi_out',\n",
       "       'taxi_in', 'crs_arr_time', 'arr_delay', 'air_time', 'distance',\n",
       "       'weekday', 'day_of_month', 'MonthlyDelayCarrier', 'airline_code',\n",
       "       'origin_code', 'dest_code'],\n",
       "      dtype='object')"
      ]
     },
     "execution_count": 4,
     "metadata": {},
     "output_type": "execute_result"
    }
   ],
   "source": [
    "data.columns"
   ]
  },
  {
   "cell_type": "code",
   "execution_count": 5,
   "id": "61795c5d-48d2-4f16-a376-f225f13dde53",
   "metadata": {},
   "outputs": [
    {
     "name": "stdout",
     "output_type": "stream",
     "text": [
      "['taxi_out', 'taxi_in', 'air_time', 'MonthlyDelayCarrier']\n",
      "['airline_code', 'crs_arr_time', 'crs_dep_time', 'day_of_month', 'dest_code', 'distance', 'mkt_carrier_fl_num', 'month', 'origin_code', 'weekday', 'year']\n"
     ]
    }
   ],
   "source": [
    "numeric_cols = ['taxi_out', 'taxi_in', 'air_time', 'MonthlyDelayCarrier']\n",
    "cat_cols = list(set(data.columns) - set(numeric_cols) - {'arr_delay'})\n",
    "cat_cols.sort()\n",
    "\n",
    "print(numeric_cols)\n",
    "print(cat_cols)"
   ]
  },
  {
   "cell_type": "code",
   "execution_count": 6,
   "id": "1a4df355-9157-439b-a8c2-98935e22919e",
   "metadata": {},
   "outputs": [
    {
     "name": "stderr",
     "output_type": "stream",
     "text": [
      "C:\\Users\\Owner\\AppData\\Local\\Temp/ipykernel_5040/1139672721.py:1: FutureWarning: In a future version of pandas all arguments of DataFrame.drop except for the argument 'labels' will be keyword-only\n",
      "  X = data.drop('arr_delay', 1)\n"
     ]
    }
   ],
   "source": [
    "X = data.drop('arr_delay', 1)\n",
    "y = data['arr_delay']"
   ]
  },
  {
   "cell_type": "code",
   "execution_count": 7,
   "id": "21e0f18d-a3b9-4f13-983b-88d0449ac6dc",
   "metadata": {},
   "outputs": [],
   "source": [
    "#Splitting the dataset into the Training set and Test set\n",
    "from sklearn.model_selection import train_test_split\n",
    "\n",
    "X_train, X_test, y_train, y_test = train_test_split(X, y, test_size=0.2, random_state=0)"
   ]
  },
  {
   "cell_type": "markdown",
   "id": "01af5cd8-c4d4-4bfc-b66d-9856badb4d7a",
   "metadata": {},
   "source": [
    "## Baseline Model"
   ]
  },
  {
   "cell_type": "code",
   "execution_count": null,
   "id": "e000f5a0-c837-4da1-a9e6-179110d8850b",
   "metadata": {},
   "outputs": [],
   "source": []
  },
  {
   "cell_type": "markdown",
   "id": "58d4d61c-a1b9-436e-956d-eeb3eb69f2cf",
   "metadata": {
    "tags": []
   },
   "source": [
    "## PCA"
   ]
  },
  {
   "cell_type": "code",
   "execution_count": 8,
   "id": "52d1bd8e-2d19-4d25-b74b-6e669096b5a6",
   "metadata": {},
   "outputs": [],
   "source": [
    "#normlize it\n",
    "from sklearn.preprocessing import StandardScaler\n",
    "\n",
    "sc = StandardScaler()\n",
    "X_train = sc.fit_transform(X_train)\n",
    "X_test = sc.transform(X_test)"
   ]
  },
  {
   "cell_type": "code",
   "execution_count": 9,
   "id": "f5fff4b3-e451-431a-86fd-e1f81f060d2b",
   "metadata": {},
   "outputs": [],
   "source": [
    "from sklearn.decomposition import PCA\n",
    "\n",
    "pca = PCA()\n",
    "df_train = pca.fit_transform(X_train)\n",
    "df_test = pca.transform(X_test)"
   ]
  },
  {
   "cell_type": "code",
   "execution_count": 10,
   "id": "282f5bba-2577-49cb-a22e-49bd1a83159a",
   "metadata": {},
   "outputs": [
    {
     "data": {
      "text/plain": [
       "array([0.14831393, 0.11408777, 0.08449085, 0.07357316, 0.07009908,\n",
       "       0.06894676, 0.06708332, 0.0665053 , 0.06548068, 0.06440912,\n",
       "       0.05778478, 0.05068133, 0.04762954, 0.01988852, 0.00102586])"
      ]
     },
     "execution_count": 10,
     "metadata": {},
     "output_type": "execute_result"
    }
   ],
   "source": [
    "explained_variance = pca.explained_variance_ratio_\n",
    "explained_variance"
   ]
  },
  {
   "cell_type": "code",
   "execution_count": 11,
   "id": "accf3b05-21b2-499b-94be-9941869892d8",
   "metadata": {},
   "outputs": [
    {
     "data": {
      "image/png": "[encoded data removed]",
      "text/plain": [
       "<Figure size 432x288 with 1 Axes>"
      ]
     },
     "metadata": {
      "needs_background": "light"
     },
     "output_type": "display_data"
    }
   ],
   "source": [
    "# n=3 looks good\n",
    "plt.plot(pca.explained_variance_)\n",
    "plt.xlabel('number of components')\n",
    "plt.ylabel('cumulative explained variance')\n",
    "plt.show()"
   ]
  },
  {
   "cell_type": "code",
   "execution_count": 12,
   "id": "d6c5f9a1-7cd4-41a1-aced-b6575b14bb19",
   "metadata": {},
   "outputs": [],
   "source": [
    "from sklearn.decomposition import PCA\n",
    "\n",
    "pca = PCA(n_components=3)\n",
    "X_train = pca.fit_transform(df_train)\n",
    "X_test = pca.transform(df_test)"
   ]
  },
  {
   "cell_type": "code",
   "execution_count": 13,
   "id": "bc6381a5-a97d-4eee-ac6a-d6eaac596f0b",
   "metadata": {},
   "outputs": [
    {
     "data": {
      "text/plain": [
       "array([0.14831393, 0.11408774, 0.08449057])"
      ]
     },
     "execution_count": 13,
     "metadata": {},
     "output_type": "execute_result"
    }
   ],
   "source": [
    "pca.explained_variance_ratio_"
   ]
  },
  {
   "cell_type": "markdown",
   "id": "b290ce40-f666-4c19-b941-8f49f4e23b1a",
   "metadata": {
    "tags": []
   },
   "source": [
    "## Multiple Regression Model"
   ]
  },
  {
   "cell_type": "markdown",
   "id": "3fad974c-4777-473c-ba36-71f7b07ecf02",
   "metadata": {
    "tags": []
   },
   "source": [
    "### Regression model with PCA components"
   ]
  },
  {
   "cell_type": "code",
   "execution_count": 14,
   "id": "58c50058-52e5-4ef4-be22-b5a06a57feeb",
   "metadata": {},
   "outputs": [
    {
     "data": {
      "text/plain": [
       "LinearRegression()"
      ]
     },
     "execution_count": 14,
     "metadata": {},
     "output_type": "execute_result"
    }
   ],
   "source": [
    "\n",
    "from sklearn.linear_model import LinearRegression\n",
    "from sklearn import linear_model\n",
    "import statsmodels.api as sm\n",
    "\n",
    "#Then we initialize the object and fit the model on our data:\n",
    "\n",
    "regressor = LinearRegression()\n",
    "regressor.fit(X_train, y_train)"
   ]
  },
  {
   "cell_type": "code",
   "execution_count": 15,
   "id": "a7986319-d6f4-47fe-a4cd-b6aca996c9b1",
   "metadata": {},
   "outputs": [
    {
     "data": {
      "text/plain": [
       "(250234,)"
      ]
     },
     "execution_count": 15,
     "metadata": {},
     "output_type": "execute_result"
    }
   ],
   "source": [
    "y_train.shape"
   ]
  },
  {
   "cell_type": "code",
   "execution_count": 16,
   "id": "9c489560-0423-4233-ba1a-8ba621e116e7",
   "metadata": {},
   "outputs": [
    {
     "data": {
      "text/plain": [
       "0.04090091035277155"
      ]
     },
     "execution_count": 16,
     "metadata": {},
     "output_type": "execute_result"
    }
   ],
   "source": [
    "# print the R-squared value for the model\n",
    "regressor.score(X_train,y_train)"
   ]
  },
  {
   "cell_type": "code",
   "execution_count": 17,
   "id": "7c6d34b8-3af9-46e8-83bf-7845afbfd08a",
   "metadata": {},
   "outputs": [
    {
     "data": {
      "text/plain": [
       "0.04198062506727951"
      ]
     },
     "execution_count": 17,
     "metadata": {},
     "output_type": "execute_result"
    }
   ],
   "source": [
    "regressor.score(X_test,y_test)"
   ]
  },
  {
   "cell_type": "markdown",
   "id": "73394833-0098-4f14-b60e-c90ddaf2fa24",
   "metadata": {
    "tags": []
   },
   "source": [
    "### Regression with original variables"
   ]
  },
  {
   "cell_type": "code",
   "execution_count": 18,
   "id": "30b3d393-898b-4585-84cb-a5e754f647a8",
   "metadata": {},
   "outputs": [],
   "source": [
    "#Splitting the dataset into the Training set and Test set\n",
    "from sklearn.model_selection import train_test_split\n",
    "\n",
    "X_train, X_test, y_train, y_test = train_test_split(X, y, test_size=0.2, random_state=0)"
   ]
  },
  {
   "cell_type": "code",
   "execution_count": 19,
   "id": "264f6bac-0afa-4797-a649-402b77038e39",
   "metadata": {},
   "outputs": [
    {
     "data": {
      "text/plain": [
       "LinearRegression()"
      ]
     },
     "execution_count": 19,
     "metadata": {},
     "output_type": "execute_result"
    }
   ],
   "source": [
    "from sklearn.linear_model import LinearRegression\n",
    "from sklearn import linear_model\n",
    "import statsmodels.api as sm\n",
    "from sklearn.metrics import mean_squared_error, r2_score\n",
    "\n",
    "#Then we initialize the object and fit the model on our data:\n",
    "\n",
    "regressor = LinearRegression()\n",
    "regressor.fit(X_train, y_train)"
   ]
  },
  {
   "cell_type": "code",
   "execution_count": 20,
   "id": "e61ef8f5-1044-482c-aa6f-332616188a0f",
   "metadata": {},
   "outputs": [
    {
     "data": {
      "text/plain": [
       "0.08309042120697507"
      ]
     },
     "execution_count": 20,
     "metadata": {},
     "output_type": "execute_result"
    }
   ],
   "source": [
    "# print the R-squared value for the model\n",
    "regressor.score(X_train,y_train)"
   ]
  },
  {
   "cell_type": "code",
   "execution_count": 21,
   "id": "027683f5-6949-41a2-97bf-3365db8f7291",
   "metadata": {},
   "outputs": [
    {
     "data": {
      "text/plain": [
       "0.08423409727117082"
      ]
     },
     "execution_count": 21,
     "metadata": {},
     "output_type": "execute_result"
    }
   ],
   "source": [
    "regressor.score(X_test,y_test)"
   ]
  },
  {
   "cell_type": "markdown",
   "id": "e6f9583c-6d89-40af-a4c6-6811416ea5a4",
   "metadata": {
    "tags": []
   },
   "source": [
    "## Polynomial Regression Model"
   ]
  },
  {
   "cell_type": "code",
   "execution_count": 22,
   "id": "409d35aa-3c15-4aa3-83a7-de0afb7000fc",
   "metadata": {},
   "outputs": [],
   "source": [
    "from sklearn.metrics import mean_squared_error\n",
    "from sklearn.preprocessing import PolynomialFeatures\n",
    "from sklearn.model_selection import train_test_split"
   ]
  },
  {
   "cell_type": "code",
   "execution_count": 23,
   "id": "effbcc5d-4d00-464b-913b-23245f3c606d",
   "metadata": {},
   "outputs": [],
   "source": [
    "#Splitting the dataset into the Training set and Test set\n",
    "from sklearn.model_selection import train_test_split\n",
    "\n",
    "X_train, X_test, y_train, y_test = train_test_split(X, y, test_size=0.2, random_state=0)\n"
   ]
  },
  {
   "cell_type": "code",
   "execution_count": 24,
   "id": "7f446967-1bae-4e1a-843c-fc285c86233e",
   "metadata": {},
   "outputs": [
    {
     "name": "stdout",
     "output_type": "stream",
     "text": [
      "Mean squared error: 2224.6409927008813\n"
     ]
    }
   ],
   "source": [
    "regr1 = LinearRegression()\n",
    "poly = PolynomialFeatures(degree = 3)\n",
    "Xpoly = poly.fit_transform(X_train)\n",
    "regr1.fit(Xpoly, y_train)\n",
    "Xpolytest = poly.fit_transform(X_test)\n",
    "result = regr1.predict(Xpolytest)\n",
    "print('Mean squared error:', mean_squared_error(result,y_test))\n"
   ]
  },
  {
   "cell_type": "code",
   "execution_count": 25,
   "id": "c5f153c0-e127-4afd-9e6d-a615e8d789aa",
   "metadata": {},
   "outputs": [
    {
     "name": "stdout",
     "output_type": "stream",
     "text": [
      "R square: -7.221401517282565\n"
     ]
    }
   ],
   "source": [
    "print('R square:', r2_score(result,y_test))"
   ]
  },
  {
   "cell_type": "code",
   "execution_count": 99,
   "id": "a738bf2b-58ee-4334-b062-32013320d79e",
   "metadata": {},
   "outputs": [
    {
     "data": {
      "image/png": "[encoded data removed]",
      "text/plain": [
       "<Figure size 360x360 with 1 Axes>"
      ]
     },
     "metadata": {
      "needs_background": "light"
     },
     "output_type": "display_data"
    }
   ],
   "source": [
    "plt.plot(X_test, result, color='m')\n",
    "plt.show()"
   ]
  },
  {
   "cell_type": "markdown",
   "id": "54f5088e-0dbb-45ee-8b2e-66154674c00f",
   "metadata": {
    "tags": []
   },
   "source": [
    "## Random Forest Regressor Model"
   ]
  },
  {
   "cell_type": "code",
   "execution_count": 26,
   "id": "8f7cd99f-49d8-4934-bc60-9975a8d29e2b",
   "metadata": {},
   "outputs": [],
   "source": [
    "# import Random Forest regresssor since our target variable is continous\n",
    "\n",
    "from sklearn.ensemble import RandomForestRegressor"
   ]
  },
  {
   "cell_type": "code",
   "execution_count": 27,
   "id": "d3890db6-7e39-44ac-8bae-d43b0dc3a050",
   "metadata": {},
   "outputs": [],
   "source": [
    "# split data into training and testing sets\n",
    "\n",
    "from sklearn.model_selection import train_test_split\n",
    "\n",
    "X_train, X_test, y_train, y_test = train_test_split(X, y, test_size = 0.3, random_state = 42)"
   ]
  },
  {
   "cell_type": "code",
   "execution_count": 28,
   "id": "ebb8b77e-8720-4679-ac2f-0566c7f79ff4",
   "metadata": {},
   "outputs": [],
   "source": [
    "# instantiate the classifier \n",
    "\n",
    "rfc = RandomForestRegressor(random_state=0)"
   ]
  },
  {
   "cell_type": "code",
   "execution_count": 29,
   "id": "d1782593-90d1-449d-b135-f124e3345ca4",
   "metadata": {},
   "outputs": [
    {
     "data": {
      "text/plain": [
       "RandomForestRegressor(random_state=0)"
      ]
     },
     "execution_count": 29,
     "metadata": {},
     "output_type": "execute_result"
    }
   ],
   "source": [
    "# fit the model\n",
    "\n",
    "rfc.fit(X_train, y_train)"
   ]
  },
  {
   "cell_type": "code",
   "execution_count": 30,
   "id": "cd8f0eec-f613-4fdb-baca-dc6675a914c7",
   "metadata": {},
   "outputs": [
    {
     "name": "stdout",
     "output_type": "stream",
     "text": [
      "R-squared: 0.866447385057574\n"
     ]
    }
   ],
   "source": [
    "score = rfc.score(X_train, y_train)\n",
    "print(\"R-squared:\", score) "
   ]
  },
  {
   "cell_type": "code",
   "execution_count": 31,
   "id": "6f1b4bdf-1249-4225-babb-104be4345bcf",
   "metadata": {},
   "outputs": [],
   "source": [
    "# Predict the Test set results\n",
    "\n",
    "y_pred = rfc.predict(X_test)"
   ]
  },
  {
   "cell_type": "code",
   "execution_count": 32,
   "id": "4e44d7ce-be9d-4009-b29b-e285c57c3340",
   "metadata": {},
   "outputs": [
    {
     "name": "stdout",
     "output_type": "stream",
     "text": [
      "R-squared: 0.04667291637817195\n"
     ]
    }
   ],
   "source": [
    "scoretest = rfc.score(X_test, y_test)\n",
    "print(\"R-squared:\", scoretest)   "
   ]
  },
  {
   "cell_type": "markdown",
   "id": "90d536e8-5a3e-4f67-be90-8bf22ac7a702",
   "metadata": {},
   "source": [
    "* Tuning with GridSearchCV"
   ]
  },
  {
   "cell_type": "code",
   "execution_count": 52,
   "id": "ef7a00fd-4602-4eb7-b5ea-0ae3d92c0873",
   "metadata": {},
   "outputs": [],
   "source": [
    "from sklearn.model_selection import GridSearchCV"
   ]
  },
  {
   "cell_type": "code",
   "execution_count": 53,
   "id": "c0c158dd-bf1b-45c4-bbaf-de548db5bac8",
   "metadata": {},
   "outputs": [],
   "source": [
    "rfregressor=RandomForestRegressor()"
   ]
  },
  {
   "cell_type": "code",
   "execution_count": 54,
   "id": "df574ca8-ba3d-4769-a2a5-eb6f5c1ca5d7",
   "metadata": {},
   "outputs": [],
   "source": [
    "param_grid = {\n",
    "   'n_estimators': [10, 100, 500],\n",
    "   'max_features': [4,5,6,7],\n",
    "   'max_depth' : [2,3,4,5,6],\n",
    "   #'criterion' :['mse', 'mae']\n",
    "}\n"
   ]
  },
  {
   "cell_type": "code",
   "execution_count": 56,
   "id": "739e5bb7-cab6-49df-9381-f2a889665d98",
   "metadata": {},
   "outputs": [
    {
     "name": "stdout",
     "output_type": "stream",
     "text": [
      "Elapsed time:  4417.746244192123\n"
     ]
    }
   ],
   "source": [
    "import time\n",
    "\n",
    "start_time = time.time()\n",
    "\n",
    "GSCV = GridSearchCV(estimator=rfregressor, param_grid=param_grid, cv=3)\n",
    "GSCV.fit(X_train, y_train)\n",
    "\n",
    "finish_time = time.time()\n",
    "total_time = finish_time - start_time\n",
    "\n",
    "print('Elapsed time: ', total_time)"
   ]
  },
  {
   "cell_type": "code",
   "execution_count": 57,
   "id": "ba002b9e-babd-4197-bf61-4bda1f6f8989",
   "metadata": {},
   "outputs": [
    {
     "data": {
      "text/plain": [
       "{'max_depth': 6, 'max_features': 7, 'n_estimators': 500}"
      ]
     },
     "execution_count": 57,
     "metadata": {},
     "output_type": "execute_result"
    }
   ],
   "source": [
    "GSCV.best_params_ "
   ]
  },
  {
   "cell_type": "code",
   "execution_count": 58,
   "id": "2984bc72-c850-49b7-bf47-7ea863c0237e",
   "metadata": {},
   "outputs": [
    {
     "data": {
      "text/plain": [
       "RandomForestRegressor(max_depth=6, max_features=7, n_estimators=500)"
      ]
     },
     "execution_count": 58,
     "metadata": {},
     "output_type": "execute_result"
    }
   ],
   "source": [
    "#using the best parameters\n",
    "randmf = RandomForestRegressor(n_estimators = 500, max_features = 7, max_depth= 6) \n",
    "randmf.fit( X_train, y_train) "
   ]
  },
  {
   "cell_type": "code",
   "execution_count": 59,
   "id": "b110bc52-d4e2-4854-bd55-b3699799f65a",
   "metadata": {},
   "outputs": [],
   "source": [
    "y_pred_randmf = randmf.predict( X_test )"
   ]
  },
  {
   "cell_type": "code",
   "execution_count": 60,
   "id": "7224578b-08c1-491f-8fd5-abe062e320d1",
   "metadata": {},
   "outputs": [
    {
     "name": "stdout",
     "output_type": "stream",
     "text": [
      "R-squared: 0.09310287889953206\n"
     ]
    }
   ],
   "source": [
    "score2 = randmf.score(X_train, y_train)\n",
    "print(\"R-squared:\", score2) "
   ]
  },
  {
   "cell_type": "code",
   "execution_count": 61,
   "id": "77989479-99e4-464d-8868-158a28029029",
   "metadata": {},
   "outputs": [
    {
     "name": "stdout",
     "output_type": "stream",
     "text": [
      "R-squared: 0.07364542645080208\n"
     ]
    }
   ],
   "source": [
    "scoretest2 = randmf.score(X_test, y_test)\n",
    "print(\"R-squared:\", scoretest2)  "
   ]
  },
  {
   "cell_type": "markdown",
   "id": "e958c472-159e-49ec-9581-9a0bf9590d97",
   "metadata": {},
   "source": [
    "## XGBoost Model"
   ]
  },
  {
   "cell_type": "code",
   "execution_count": 33,
   "id": "9d11b045-d7f1-4e97-8168-7cb0deaa8fb6",
   "metadata": {},
   "outputs": [],
   "source": [
    "import xgboost as xgb\n",
    "from sklearn.metrics import mean_squared_error,r2_score\n",
    "import pandas as pd\n",
    "import numpy as np"
   ]
  },
  {
   "cell_type": "code",
   "execution_count": 34,
   "id": "62b0eabd-d385-4916-a2cf-1a978325f47c",
   "metadata": {},
   "outputs": [
    {
     "name": "stderr",
     "output_type": "stream",
     "text": [
      "C:\\Users\\Owner\\AppData\\Local\\Temp/ipykernel_5040/1139672721.py:1: FutureWarning: In a future version of pandas all arguments of DataFrame.drop except for the argument 'labels' will be keyword-only\n",
      "  X = data.drop('arr_delay', 1)\n"
     ]
    }
   ],
   "source": [
    "X = data.drop('arr_delay', 1)\n",
    "y = data['arr_delay']"
   ]
  },
  {
   "cell_type": "code",
   "execution_count": 35,
   "id": "5662068f-6df9-463b-b62b-1c59ef8846f2",
   "metadata": {},
   "outputs": [],
   "source": [
    "data_dmatrix = xgb.DMatrix(data=X,label=y)"
   ]
  },
  {
   "cell_type": "code",
   "execution_count": 36,
   "id": "2f200a86-aa38-4d35-8415-580cdc7f5310",
   "metadata": {},
   "outputs": [],
   "source": [
    "# split data into training and testing sets\n",
    "\n",
    "from sklearn.model_selection import train_test_split\n",
    "\n",
    "X_train, X_test, y_train, y_test = train_test_split(X, y, test_size = 0.3, random_state = 42)"
   ]
  },
  {
   "cell_type": "code",
   "execution_count": 37,
   "id": "70dca9ec-9d65-42ff-9d87-c60b7e914820",
   "metadata": {},
   "outputs": [],
   "source": [
    "#instantiate an XGBoost regressor\n",
    "xg_reg = xgb.XGBRegressor(objective ='reg:linear', colsample_bytree = 0.3, learning_rate = 0.1,\n",
    "                max_depth = 6, alpha = 2, n_estimators = 100)"
   ]
  },
  {
   "cell_type": "code",
   "execution_count": 38,
   "id": "3408946a-1461-49ec-b1cc-8e4170f7176e",
   "metadata": {},
   "outputs": [
    {
     "name": "stdout",
     "output_type": "stream",
     "text": [
      "[08:20:07] WARNING: C:/Users/Administrator/workspace/xgboost-win64_release_1.5.1/src/objective/regression_obj.cu:188: reg:linear is now deprecated in favor of reg:squarederror.\n",
      "Elapsed time:  4.531712055206299\n"
     ]
    }
   ],
   "source": [
    "# fit and make predictions\n",
    "import time\n",
    "\n",
    "start_time = time.time()\n",
    "\n",
    "xg_reg.fit(X_train,y_train)\n",
    "\n",
    "y_pred = xg_reg.predict(X_test)\n",
    "\n",
    "finish_time = time.time()\n",
    "total_time = finish_time - start_time\n",
    "\n",
    "print('Elapsed time: ', total_time)"
   ]
  },
  {
   "cell_type": "code",
   "execution_count": 39,
   "id": "90db413d-9231-4d0d-bed2-1a0e4bd41105",
   "metadata": {},
   "outputs": [
    {
     "name": "stdout",
     "output_type": "stream",
     "text": [
      "RMSE:  47.958778011498914\n",
      "R-squared: 0.09145240266402643\n"
     ]
    }
   ],
   "source": [
    "mse = mean_squared_error(y_test, y_pred)\n",
    "#mae = mean_absolute_error(y_test,y_pred)\n",
    "print(\"RMSE: \", mse**(1/2))\n",
    "#print(\"MAE: \", mae) \n",
    "scoretest = xg_reg.score(X_test, y_test)\n",
    "print(\"R-squared:\", scoretest)"
   ]
  },
  {
   "cell_type": "code",
   "execution_count": 40,
   "id": "2cc2114e-df3e-4dc4-834a-663890e8a10c",
   "metadata": {},
   "outputs": [
    {
     "name": "stdout",
     "output_type": "stream",
     "text": [
      "R-squared: 0.14831521385323876\n"
     ]
    }
   ],
   "source": [
    "scoretrain = xg_reg.score(X_train, y_train)\n",
    "print(\"R-squared:\", scoretrain)"
   ]
  },
  {
   "cell_type": "code",
   "execution_count": 41,
   "id": "abd44658-7eb8-472d-9eb3-4f7f3afef7fb",
   "metadata": {},
   "outputs": [],
   "source": [
    "params = {\"objective\":\"reg:linear\",'colsample_bytree': 0.3,'learning_rate': 0.1,\n",
    "                'max_depth': 6, 'alpha': 2}"
   ]
  },
  {
   "cell_type": "code",
   "execution_count": 42,
   "id": "db0a959e-d2e8-4c7c-b5c8-21b2f7c90fc7",
   "metadata": {},
   "outputs": [
    {
     "name": "stdout",
     "output_type": "stream",
     "text": [
      "[08:20:30] WARNING: C:/Users/Administrator/workspace/xgboost-win64_release_1.5.1/src/objective/regression_obj.cu:188: reg:linear is now deprecated in favor of reg:squarederror.\n"
     ]
    },
    {
     "data": {
      "image/png": "[encoded data removed]",
      "text/plain": [
       "<Figure size 432x288 with 1 Axes>"
      ]
     },
     "metadata": {
      "needs_background": "light"
     },
     "output_type": "display_data"
    }
   ],
   "source": [
    "xg_reg = xgb.train(params=params, dtrain=data_dmatrix, num_boost_round=10)\n",
    "xgb.plot_importance(xg_reg)\n",
    "plt.rcParams['figure.figsize'] = [5, 5]\n",
    "plt.show()"
   ]
  },
  {
   "cell_type": "markdown",
   "id": "7aaad9e5-e9b1-46f7-b59c-f756f896eec4",
   "metadata": {},
   "source": [
    "### k-fold Cross Validation using XGBoost"
   ]
  },
  {
   "cell_type": "code",
   "execution_count": 125,
   "id": "857eb13c-fe9f-405d-9701-932cbbe2bcc9",
   "metadata": {},
   "outputs": [
    {
     "name": "stdout",
     "output_type": "stream",
     "text": [
      "[21:49:41] WARNING: C:/Users/Administrator/workspace/xgboost-win64_release_1.5.1/src/objective/regression_obj.cu:188: reg:linear is now deprecated in favor of reg:squarederror.\n",
      "[21:49:41] WARNING: C:/Users/Administrator/workspace/xgboost-win64_release_1.5.1/src/objective/regression_obj.cu:188: reg:linear is now deprecated in favor of reg:squarederror.\n",
      "[21:49:41] WARNING: C:/Users/Administrator/workspace/xgboost-win64_release_1.5.1/src/objective/regression_obj.cu:188: reg:linear is now deprecated in favor of reg:squarederror.\n",
      "[21:49:41] WARNING: C:/Users/Administrator/workspace/xgboost-win64_release_1.5.1/src/objective/regression_obj.cu:188: reg:linear is now deprecated in favor of reg:squarederror.\n",
      "[21:49:41] WARNING: C:/Users/Administrator/workspace/xgboost-win64_release_1.5.1/src/objective/regression_obj.cu:188: reg:linear is now deprecated in favor of reg:squarederror.\n"
     ]
    }
   ],
   "source": [
    "params = {\"objective\":\"reg:linear\",'colsample_bytree': 0.3,'learning_rate': 0.01,\n",
    "                'max_depth': 6, 'alpha': 2}\n",
    "\n",
    "cv_results = xgb.cv(dtrain=data_dmatrix, params=params, nfold=5,\n",
    "                    num_boost_round=1000,early_stopping_rounds=10,metrics=\"rmse\", as_pandas=True, seed=123)"
   ]
  },
  {
   "cell_type": "code",
   "execution_count": 126,
   "id": "6cbe1fe8-7cc6-4145-9ac1-0de14dd6de3b",
   "metadata": {},
   "outputs": [
    {
     "data": {
      "text/html": [
       "<div>\n",
       "<style scoped>\n",
       "    .dataframe tbody tr th:only-of-type {\n",
       "        vertical-align: middle;\n",
       "    }\n",
       "\n",
       "    .dataframe tbody tr th {\n",
       "        vertical-align: top;\n",
       "    }\n",
       "\n",
       "    .dataframe thead th {\n",
       "        text-align: right;\n",
       "    }\n",
       "</style>\n",
       "<table border=\"1\" class=\"dataframe\">\n",
       "  <thead>\n",
       "    <tr style=\"text-align: right;\">\n",
       "      <th></th>\n",
       "      <th>train-rmse-mean</th>\n",
       "      <th>train-rmse-std</th>\n",
       "      <th>test-rmse-mean</th>\n",
       "      <th>test-rmse-std</th>\n",
       "    </tr>\n",
       "  </thead>\n",
       "  <tbody>\n",
       "    <tr>\n",
       "      <th>0</th>\n",
       "      <td>49.857140</td>\n",
       "      <td>0.300649</td>\n",
       "      <td>49.844829</td>\n",
       "      <td>1.197739</td>\n",
       "    </tr>\n",
       "    <tr>\n",
       "      <th>1</th>\n",
       "      <td>49.604795</td>\n",
       "      <td>0.286718</td>\n",
       "      <td>49.598016</td>\n",
       "      <td>1.219618</td>\n",
       "    </tr>\n",
       "    <tr>\n",
       "      <th>2</th>\n",
       "      <td>49.525517</td>\n",
       "      <td>0.277779</td>\n",
       "      <td>49.520182</td>\n",
       "      <td>1.256958</td>\n",
       "    </tr>\n",
       "    <tr>\n",
       "      <th>3</th>\n",
       "      <td>49.329823</td>\n",
       "      <td>0.339837</td>\n",
       "      <td>49.329628</td>\n",
       "      <td>1.171564</td>\n",
       "    </tr>\n",
       "    <tr>\n",
       "      <th>4</th>\n",
       "      <td>49.201907</td>\n",
       "      <td>0.318175</td>\n",
       "      <td>49.202678</td>\n",
       "      <td>1.216007</td>\n",
       "    </tr>\n",
       "  </tbody>\n",
       "</table>\n",
       "</div>"
      ],
      "text/plain": [
       "   train-rmse-mean  train-rmse-std  test-rmse-mean  test-rmse-std\n",
       "0        49.857140        0.300649       49.844829       1.197739\n",
       "1        49.604795        0.286718       49.598016       1.219618\n",
       "2        49.525517        0.277779       49.520182       1.256958\n",
       "3        49.329823        0.339837       49.329628       1.171564\n",
       "4        49.201907        0.318175       49.202678       1.216007"
      ]
     },
     "execution_count": 126,
     "metadata": {},
     "output_type": "execute_result"
    }
   ],
   "source": [
    "cv_results.head()"
   ]
  },
  {
   "cell_type": "code",
   "execution_count": 127,
   "id": "54a7700b-ac6b-486a-9bae-bbe690101448",
   "metadata": {},
   "outputs": [
    {
     "name": "stdout",
     "output_type": "stream",
     "text": [
      "999    24.236162\n",
      "Name: test-rmse-mean, dtype: float64\n"
     ]
    }
   ],
   "source": [
    "print((cv_results[\"test-rmse-mean\"]).tail(1))  #model not improved. try different parameters or models."
   ]
  },
  {
   "cell_type": "markdown",
   "id": "23034400-4bf4-4279-a099-6e76a2ba69ab",
   "metadata": {},
   "source": [
    "### Random Search for XGBost"
   ]
  },
  {
   "cell_type": "code",
   "execution_count": null,
   "id": "a38e151d-20ad-4588-b816-399f16e0fa77",
   "metadata": {},
   "outputs": [],
   "source": []
  },
  {
   "cell_type": "code",
   "execution_count": null,
   "id": "2ffe02ec-08b0-4808-bc55-0cf294840afd",
   "metadata": {},
   "outputs": [],
   "source": []
  },
  {
   "cell_type": "code",
   "execution_count": 43,
   "id": "d86b5ff6-5c36-44e5-ae28-7332f2697f08",
   "metadata": {},
   "outputs": [],
   "source": [
    "# A parameter grid for XGBoost\n",
    "params = {\n",
    "    'n_estimators':[10,100,500],\n",
    "    #'min_child_weight':[4,5], \n",
    "    'gamma':[i/10.0 for i in range(3,6)],  \n",
    "    #'subsample':[i/10.0 for i in range(6,11)],\n",
    "    'colsample_bytree':[i/10.0 for i in range(6,11)], \n",
    "    'max_depth': [3,6,9,12],\n",
    "    #'objective': ['reg:squarederror', 'reg:tweedie'],\n",
    "    #'booster': ['gbtree', 'gblinear'],\n",
    "    'eval_metric': ['rmse'],\n",
    "    'eta': [i/10.0 for i in range(3,6)],\n",
    "}"
   ]
  },
  {
   "cell_type": "code",
   "execution_count": 44,
   "id": "3f309985-c7d9-41bb-917d-1a0252de2be1",
   "metadata": {},
   "outputs": [],
   "source": [
    "from sklearn.model_selection import RandomizedSearchCV\n",
    "from xgboost import XGBRegressor"
   ]
  },
  {
   "cell_type": "code",
   "execution_count": 45,
   "id": "a0e253ff-f3b7-4b07-bc79-d8de6c03fe5c",
   "metadata": {},
   "outputs": [],
   "source": [
    "reg = XGBRegressor(nthread=-1)"
   ]
  },
  {
   "cell_type": "code",
   "execution_count": 46,
   "id": "366af67d-6e64-4ae0-bcd7-bb96b92a069e",
   "metadata": {},
   "outputs": [],
   "source": [
    "n_iter_search = 10\n",
    "random_search = RandomizedSearchCV(reg, param_distributions=params,\n",
    "                                   n_iter=n_iter_search, cv=5, scoring='neg_mean_squared_error')"
   ]
  },
  {
   "cell_type": "code",
   "execution_count": 47,
   "id": "7269f886-7062-4540-bbb3-d01de88ce7e5",
   "metadata": {},
   "outputs": [
    {
     "name": "stdout",
     "output_type": "stream",
     "text": [
      "Elapsed time:  424.6402938365936\n"
     ]
    }
   ],
   "source": [
    "import time\n",
    "\n",
    "start_time = time.time()\n",
    "random_search.fit(X_train, y_train)\n",
    "\n",
    "finish_time = time.time()\n",
    "total_time = finish_time - start_time\n",
    "\n",
    "print('Elapsed time: ', total_time)"
   ]
  },
  {
   "cell_type": "code",
   "execution_count": 48,
   "id": "c238df43-69e7-4c53-843a-3f38d31d620a",
   "metadata": {},
   "outputs": [],
   "source": [
    "best_regressor = random_search.best_estimator_"
   ]
  },
  {
   "cell_type": "code",
   "execution_count": 49,
   "id": "b8aa841c-52a8-46ba-8476-634b8b2f1e96",
   "metadata": {},
   "outputs": [],
   "source": [
    "from sklearn.metrics import mean_absolute_error\n",
    "\n",
    "# Get predictions\n",
    "y_pred = best_regressor.predict(X_test)"
   ]
  },
  {
   "cell_type": "code",
   "execution_count": 50,
   "id": "d5074396-b95b-4190-8ad1-183f8c745f94",
   "metadata": {},
   "outputs": [
    {
     "name": "stdout",
     "output_type": "stream",
     "text": [
      "RMSE:  47.888693551915374\n",
      "MAE:  21.69661982706118\n",
      "R-squared: 0.09410587067511478\n"
     ]
    }
   ],
   "source": [
    "mse = mean_squared_error(y_test, y_pred)\n",
    "mae = mean_absolute_error(y_test,y_pred)\n",
    "print(\"RMSE: \", mse**(1/2))\n",
    "print(\"MAE: \", mae) \n",
    "scoretest = best_regressor.score(X_test, y_test)\n",
    "print(\"R-squared:\", scoretest)                "
   ]
  },
  {
   "cell_type": "code",
   "execution_count": 51,
   "id": "dfb8fc91-d707-4f27-876f-ebfe170a5fc4",
   "metadata": {},
   "outputs": [
    {
     "name": "stdout",
     "output_type": "stream",
     "text": [
      "R-squared: 0.11763147246463024\n"
     ]
    }
   ],
   "source": [
    "scoretrain = best_regressor.score(X_train, y_train)\n",
    "print(\"R-squared:\", scoretrain)  "
   ]
  },
  {
   "cell_type": "code",
   "execution_count": null,
   "id": "f4fe3108-5384-4caf-a135-0ed2b8b924d1",
   "metadata": {},
   "outputs": [],
   "source": []
  },
  {
   "cell_type": "code",
   "execution_count": null,
   "id": "f4ee4512-afcf-44d1-930e-95242cc72e8a",
   "metadata": {},
   "outputs": [],
   "source": []
  }
 ],
 "metadata": {
  "kernelspec": {
   "display_name": "Python 3 (ipykernel)",
   "language": "python",
   "name": "python3"
  },
  "language_info": {
   "codemirror_mode": {
    "name": "ipython",
    "version": 3
   },
   "file_extension": ".py",
   "mimetype": "text/x-python",
   "name": "python",
   "nbconvert_exporter": "python",
   "pygments_lexer": "ipython3",
   "version": "3.9.7"
  }
 },
 "nbformat": 4,
 "nbformat_minor": 5
}
