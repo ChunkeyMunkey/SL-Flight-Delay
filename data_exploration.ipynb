{
 "cells": [
  {
   "cell_type": "code",
   "execution_count": 1,
   "id": "bc9417df",
   "metadata": {},
   "outputs": [],
   "source": [
    "import pandas as pd\n",
    "import matplotlib.pyplot as plt\n",
    "import numpy as np\n",
    "import seaborn as sns\n",
    "import scipy"
   ]
  },
  {
   "cell_type": "code",
   "execution_count": 28,
   "id": "03fb35c7",
   "metadata": {},
   "outputs": [],
   "source": [
    "df = pd.read_csv('Data/flights_cleaned.csv')"
   ]
  },
  {
   "cell_type": "code",
   "execution_count": 30,
   "id": "a1bb6cd4",
   "metadata": {},
   "outputs": [
    {
     "data": {
      "text/plain": [
       "0         8\n",
       "1         8\n",
       "2         8\n",
       "3         8\n",
       "4         8\n",
       "         ..\n",
       "312788    8\n",
       "312789    8\n",
       "312790    8\n",
       "312791    8\n",
       "312792    8\n",
       "Name: months, Length: 312793, dtype: int64"
      ]
     },
     "execution_count": 30,
     "metadata": {},
     "output_type": "execute_result"
    }
   ],
   "source": [
    "df.months"
   ]
  },
  {
   "cell_type": "markdown",
   "id": "494b5c26",
   "metadata": {},
   "source": [
    "# Task 1"
   ]
  },
  {
   "cell_type": "code",
   "execution_count": 12,
   "id": "b93a624e",
   "metadata": {},
   "outputs": [
    {
     "data": {
      "image/png": "[encoded data removed]",
      "text/plain": [
       "<Figure size 432x288 with 1 Axes>"
      ]
     },
     "metadata": {
      "needs_background": "light"
     },
     "output_type": "display_data"
    }
   ],
   "source": [
    "sns.histplot(df.dep_delay)\n",
    "plt.xlim(-50, 250)\n",
    "plt.ylim(0, 20000)\n",
    "plt.show()"
   ]
  },
  {
   "cell_type": "code",
   "execution_count": 13,
   "id": "2d5a5a54",
   "metadata": {},
   "outputs": [
    {
     "data": {
      "text/plain": [
       "AndersonResult(statistic=56214.537472699536, critical_values=array([0.576, 0.656, 0.787, 0.918, 1.092]), significance_level=array([15. , 10. ,  5. ,  2.5,  1. ]))"
      ]
     },
     "execution_count": 13,
     "metadata": {},
     "output_type": "execute_result"
    }
   ],
   "source": [
    "# Anderson-Darling test for normality\n",
    "\n",
    "from scipy.stats import anderson\n",
    "\n",
    "scipy.stats.anderson(df.dep_delay, dist='norm')\n",
    "\n",
    "# The significance level below indicates the data is normally distributed."
   ]
  },
  {
   "cell_type": "code",
   "execution_count": null,
   "id": "786273e8",
   "metadata": {},
   "outputs": [],
   "source": []
  },
  {
   "cell_type": "markdown",
   "id": "925dcfa7",
   "metadata": {},
   "source": [
    "# Task 2: average/median monthly delay different during the year"
   ]
  },
  {
   "cell_type": "code",
   "execution_count": 31,
   "id": "68662d98",
   "metadata": {},
   "outputs": [
    {
     "name": "stderr",
     "output_type": "stream",
     "text": [
      "C:\\Users\\Sujan\\anaconda3\\lib\\site-packages\\seaborn\\_decorators.py:36: FutureWarning: Pass the following variables as keyword args: x, y. From version 0.12, the only valid positional argument will be `data`, and passing other arguments without an explicit keyword will result in an error or misinterpretation.\n",
      "  warnings.warn(\n"
     ]
    },
    {
     "data": {
      "text/plain": [
       "<AxesSubplot:xlabel='months', ylabel='dep_delay'>"
      ]
     },
     "execution_count": 31,
     "metadata": {},
     "output_type": "execute_result"
    },
    {
     "data": {
      "image/png": "[encoded data removed]",
      "text/plain": [
       "<Figure size 432x288 with 1 Axes>"
      ]
     },
     "metadata": {
      "needs_background": "light"
     },
     "output_type": "display_data"
    }
   ],
   "source": [
    "sns.barplot(df.months, df.dep_delay)"
   ]
  },
  {
   "cell_type": "code",
   "execution_count": 18,
   "id": "954d8f20",
   "metadata": {},
   "outputs": [],
   "source": [
    "# Month 6,7,8 (June, July, Aug) has the highest delays."
   ]
  },
  {
   "cell_type": "code",
   "execution_count": null,
   "id": "016c3b6e",
   "metadata": {},
   "outputs": [],
   "source": []
  },
  {
   "cell_type": "markdown",
   "id": "28165f31",
   "metadata": {},
   "source": [
    "# Task 3: # Does the weather affect the delay?"
   ]
  },
  {
   "cell_type": "code",
   "execution_count": null,
   "id": "62f8e673",
   "metadata": {},
   "outputs": [],
   "source": []
  },
  {
   "cell_type": "code",
   "execution_count": null,
   "id": "36ef44d2",
   "metadata": {},
   "outputs": [],
   "source": []
  },
  {
   "cell_type": "code",
   "execution_count": null,
   "id": "1b03b21e",
   "metadata": {},
   "outputs": [],
   "source": []
  },
  {
   "cell_type": "code",
   "execution_count": null,
   "id": "5af49450",
   "metadata": {},
   "outputs": [],
   "source": []
  },
  {
   "cell_type": "code",
   "execution_count": null,
   "id": "64874744",
   "metadata": {},
   "outputs": [],
   "source": []
  },
  {
   "cell_type": "code",
   "execution_count": null,
   "id": "1c8afbc1",
   "metadata": {},
   "outputs": [],
   "source": []
  },
  {
   "cell_type": "markdown",
   "id": "7713e299",
   "metadata": {},
   "source": [
    "# Task 4: How taxi times changing during the day? Does higher traffic lead to bigger taxi times?"
   ]
  },
  {
   "cell_type": "code",
   "execution_count": 3,
   "id": "22ab9dad",
   "metadata": {},
   "outputs": [
    {
     "data": {
      "text/html": [
       "<div>\n",
       "<style scoped>\n",
       "    .dataframe tbody tr th:only-of-type {\n",
       "        vertical-align: middle;\n",
       "    }\n",
       "\n",
       "    .dataframe tbody tr th {\n",
       "        vertical-align: top;\n",
       "    }\n",
       "\n",
       "    .dataframe thead th {\n",
       "        text-align: right;\n",
       "    }\n",
       "</style>\n",
       "<table border=\"1\" class=\"dataframe\">\n",
       "  <thead>\n",
       "    <tr style=\"text-align: right;\">\n",
       "      <th></th>\n",
       "      <th>taxi_out</th>\n",
       "    </tr>\n",
       "    <tr>\n",
       "      <th>dep_time</th>\n",
       "      <th></th>\n",
       "    </tr>\n",
       "  </thead>\n",
       "  <tbody>\n",
       "    <tr>\n",
       "      <th>1.0</th>\n",
       "      <td>16.317073</td>\n",
       "    </tr>\n",
       "    <tr>\n",
       "      <th>2.0</th>\n",
       "      <td>17.208333</td>\n",
       "    </tr>\n",
       "    <tr>\n",
       "      <th>3.0</th>\n",
       "      <td>15.633333</td>\n",
       "    </tr>\n",
       "    <tr>\n",
       "      <th>4.0</th>\n",
       "      <td>19.351351</td>\n",
       "    </tr>\n",
       "    <tr>\n",
       "      <th>5.0</th>\n",
       "      <td>17.619048</td>\n",
       "    </tr>\n",
       "    <tr>\n",
       "      <th>...</th>\n",
       "      <td>...</td>\n",
       "    </tr>\n",
       "    <tr>\n",
       "      <th>2356.0</th>\n",
       "      <td>18.816327</td>\n",
       "    </tr>\n",
       "    <tr>\n",
       "      <th>2357.0</th>\n",
       "      <td>17.170732</td>\n",
       "    </tr>\n",
       "    <tr>\n",
       "      <th>2358.0</th>\n",
       "      <td>16.600000</td>\n",
       "    </tr>\n",
       "    <tr>\n",
       "      <th>2359.0</th>\n",
       "      <td>19.060606</td>\n",
       "    </tr>\n",
       "    <tr>\n",
       "      <th>2400.0</th>\n",
       "      <td>17.200000</td>\n",
       "    </tr>\n",
       "  </tbody>\n",
       "</table>\n",
       "<p>1408 rows × 1 columns</p>\n",
       "</div>"
      ],
      "text/plain": [
       "           taxi_out\n",
       "dep_time           \n",
       "1.0       16.317073\n",
       "2.0       17.208333\n",
       "3.0       15.633333\n",
       "4.0       19.351351\n",
       "5.0       17.619048\n",
       "...             ...\n",
       "2356.0    18.816327\n",
       "2357.0    17.170732\n",
       "2358.0    16.600000\n",
       "2359.0    19.060606\n",
       "2400.0    17.200000\n",
       "\n",
       "[1408 rows x 1 columns]"
      ]
     },
     "execution_count": 3,
     "metadata": {},
     "output_type": "execute_result"
    }
   ],
   "source": [
    "task4a = df.groupby(['dep_time'])['taxi_out'].mean()\n",
    "task4a = pd.DataFrame(task4a)\n",
    "task4a"
   ]
  },
  {
   "cell_type": "code",
   "execution_count": 4,
   "id": "bd11e0a0",
   "metadata": {},
   "outputs": [
    {
     "name": "stderr",
     "output_type": "stream",
     "text": [
      "C:\\Users\\Sujan\\anaconda3\\lib\\site-packages\\seaborn\\_decorators.py:36: FutureWarning: Pass the following variables as keyword args: x, y. From version 0.12, the only valid positional argument will be `data`, and passing other arguments without an explicit keyword will result in an error or misinterpretation.\n",
      "  warnings.warn(\n"
     ]
    },
    {
     "data": {
      "text/plain": [
       "<AxesSubplot:xlabel='dep_time', ylabel='taxi_out'>"
      ]
     },
     "execution_count": 4,
     "metadata": {},
     "output_type": "execute_result"
    },
    {
     "data": {
      "image/png": "[encoded data removed]",
      "text/plain": [
       "<Figure size 432x288 with 1 Axes>"
      ]
     },
     "metadata": {
      "needs_background": "light"
     },
     "output_type": "display_data"
    }
   ],
   "source": [
    "sns.scatterplot(task4a.index, task4a.taxi_out)"
   ]
  },
  {
   "cell_type": "code",
   "execution_count": 5,
   "id": "2d35099e",
   "metadata": {},
   "outputs": [],
   "source": [
    "# above figure shows the change in taxi time during the day"
   ]
  },
  {
   "cell_type": "code",
   "execution_count": 42,
   "id": "f9eb381f",
   "metadata": {},
   "outputs": [
    {
     "data": {
      "text/plain": [
       "(0.0, 900.0)"
      ]
     },
     "execution_count": 42,
     "metadata": {},
     "output_type": "execute_result"
    },
    {
     "data": {
      "image/png": "[encoded data removed]",
      "text/plain": [
       "<Figure size 432x288 with 1 Axes>"
      ]
     },
     "metadata": {
      "needs_background": "light"
     },
     "output_type": "display_data"
    }
   ],
   "source": [
    "sns.barplot(y=task4b.taxi_out, x=task4b.index)\n",
    "plt.ylim(0,900)"
   ]
  },
  {
   "cell_type": "code",
   "execution_count": null,
   "id": "abd9b809",
   "metadata": {},
   "outputs": [],
   "source": []
  },
  {
   "cell_type": "markdown",
   "id": "fcc74571",
   "metadata": {},
   "source": [
    "# Task 5: What is the average percentage of delays that is already created before departure? (aka are arrival delays caused by departure delays?) Are airlines able to lower the delay during the flights?"
   ]
  },
  {
   "cell_type": "code",
   "execution_count": 6,
   "id": "9436e85b",
   "metadata": {},
   "outputs": [],
   "source": [
    "delay_caused_by_dep_delay = len(df[(df['dep_delay']>0) & df['arr_delay']>0 ])"
   ]
  },
  {
   "cell_type": "code",
   "execution_count": 7,
   "id": "412b517e",
   "metadata": {},
   "outputs": [],
   "source": [
    "total_arr_delay = len(df[df['arr_delay']>0])"
   ]
  },
  {
   "cell_type": "code",
   "execution_count": 8,
   "id": "5483792b",
   "metadata": {},
   "outputs": [
    {
     "name": "stdout",
     "output_type": "stream",
     "text": [
      "On average percentage of arrival delays caused by departure delays: 95 %\n"
     ]
    }
   ],
   "source": [
    "per = (delay_caused_by_dep_delay / total_arr_delay)*100\n",
    "print(\"On average percentage of arrival delays caused by departure delays:\", round(per),'%')"
   ]
  },
  {
   "cell_type": "code",
   "execution_count": 9,
   "id": "d8bdbe0c",
   "metadata": {},
   "outputs": [
    {
     "data": {
      "text/plain": [
       "113.4454138290123"
      ]
     },
     "execution_count": 9,
     "metadata": {},
     "output_type": "execute_result"
    }
   ],
   "source": [
    "df[(df['dep_delay']>0) & df['arr_delay']>0 ]['air_time'].mean()"
   ]
  },
  {
   "cell_type": "code",
   "execution_count": 10,
   "id": "32407897",
   "metadata": {},
   "outputs": [
    {
     "data": {
      "text/plain": [
       "107.9463527968604"
      ]
     },
     "execution_count": 10,
     "metadata": {},
     "output_type": "execute_result"
    }
   ],
   "source": [
    "df.air_time.mean()"
   ]
  },
  {
   "cell_type": "code",
   "execution_count": 11,
   "id": "ea44e18c",
   "metadata": {},
   "outputs": [],
   "source": [
    "# Since average air_time during delays is more, airlines are not able to lower the delay during the flights"
   ]
  },
  {
   "cell_type": "markdown",
   "id": "697d9aec",
   "metadata": {},
   "source": [
    "# Task 6: How many states cover 50% of US air traffic?"
   ]
  },
  {
   "cell_type": "code",
   "execution_count": 32,
   "id": "aa9a4861",
   "metadata": {},
   "outputs": [
    {
     "data": {
      "text/plain": [
       "array(['Raleigh/Durham, NC', 'Denver, CO', 'Philadelphia, PA',\n",
       "       'Miami, FL', 'Chicago, IL', 'San Antonio, TX',\n",
       "       'Dallas/Fort Worth, TX', 'Los Angeles, CA', 'Phoenix, AZ',\n",
       "       'Newark, NJ', 'St. Louis, MO', 'Houston, TX', 'San Francisco, CA',\n",
       "       'Honolulu, HI', 'San Diego, CA', 'Washington, DC',\n",
       "       'Kansas City, MO', 'New York, NY', 'Grand Rapids, MI',\n",
       "       'Charlotte, NC', 'Indianapolis, IN', 'Austin, TX', 'Boston, MA',\n",
       "       'Rochester, NY', 'Oklahoma City, OK', 'Atlanta, GA',\n",
       "       'Des Moines, IA', 'Richmond, VA', 'Detroit, MI',\n",
       "       'Fort Lauderdale, FL', 'Seattle, WA', 'Rapid City, SD',\n",
       "       'Owensboro, KY', 'Lubbock, TX', 'Brownsville, TX', 'Peoria, IL',\n",
       "       'Minneapolis, MN', 'Lincoln, NE', 'Montgomery, AL',\n",
       "       'Burlington, VT', 'Pittsburgh, PA', 'San Jose, CA',\n",
       "       'Green Bay, WI', 'Omaha, NE', 'Louisville, KY', 'Buffalo, NY',\n",
       "       'Las Vegas, NV', 'Orlando, FL', 'Worcester, MA', 'Hartford, CT',\n",
       "       'Baton Rouge, LA', 'Albany, NY', 'Shreveport, LA',\n",
       "       'Walla Walla, WA', 'Spokane, WA', 'Medford, OR', 'Sacramento, CA',\n",
       "       'Killeen, TX', 'Greer, SC', 'Huntsville, AL', 'Lexington, KY',\n",
       "       'San Juan, PR', 'Baltimore, MD', 'Salt Lake City, UT',\n",
       "       'Newport News/Williamsburg, VA', 'Harrisburg, PA',\n",
       "       'Punta Gorda, FL', 'New Haven, CT',\n",
       "       'Allentown/Bethlehem/Easton, PA', 'Flagstaff, AZ', 'Lynchburg, VA',\n",
       "       'Wichita, KS', 'Hattiesburg/Laurel, MS', 'Dallas, TX', 'Reno, NV',\n",
       "       'Milwaukee, WI', 'Idaho Falls, ID', 'Cincinnati, OH',\n",
       "       'Paducah, KY', 'Jamestown, ND', 'Columbus, OH', 'Eugene, OR',\n",
       "       'Durango, CO', 'Jacksonville, FL', 'Kodiak, AK', 'Bethel, AK',\n",
       "       'Juneau, AK', 'Anchorage, AK', 'Monroe, LA', 'Norfolk, VA',\n",
       "       'Ashland, WV', 'Manchester, NH', 'Dayton, OH', 'Nashville, TN',\n",
       "       'Cleveland, OH', 'Tampa, FL', 'Gulfport/Biloxi, MS',\n",
       "       'White Plains, NY', 'New Bern/Morehead/Beaufort, NC',\n",
       "       'Savannah, GA', 'Lafayette, LA', 'New Orleans, LA',\n",
       "       'Panama City, FL', 'Grand Island, NE', 'Valparaiso, FL',\n",
       "       'Fayetteville, NC', 'Charleston, SC', 'Kona, HI', 'Santa Ana, CA',\n",
       "       'Portland, OR', 'Springfield, MO', 'Jackson/Vicksburg, MS',\n",
       "       'Oakland, CA', 'Tulsa, OK', 'Evansville, IN',\n",
       "       'Newburgh/Poughkeepsie, NY', 'Gillette, WY',\n",
       "       'Clarksburg/Fairmont, WV', 'Cape Girardeau, MO', 'Duluth, MN',\n",
       "       'St. George, UT', 'San Luis Obispo, CA', 'Monterey, CA',\n",
       "       'Cedar City, UT', 'Pocatello, ID', 'Colorado Springs, CO',\n",
       "       'Birmingham, AL', 'Melbourne, FL', 'Key West, FL',\n",
       "       'Fort Myers, FL', 'Memphis, TN', 'Portland, ME', 'Syracuse, NY',\n",
       "       'Islip, NY', 'Corpus Christi, TX', 'Mammoth Lakes, CA',\n",
       "       'Lihue, HI', 'Kahului, HI', 'Little Rock, AR',\n",
       "       'Pasco/Kennewick/Richland, WA', 'Garden City, KS', 'Knoxville, TN',\n",
       "       'Fort Wayne, IN', 'Grand Forks, ND', 'Albuquerque, NM',\n",
       "       'Boise, ID', 'Burbank, CA', 'Amarillo, TX',\n",
       "       'Greensboro/High Point, NC', 'Florence, SC', 'Pensacola, FL',\n",
       "       'Bozeman, MT', 'Sanford, FL', 'Asheville, NC', 'Appleton, WI',\n",
       "       'Wilmington, NC', 'Sioux Falls, SD',\n",
       "       'Mission/McAllen/Edinburg, TX', 'Wenatchee, WA',\n",
       "       'College Station/Bryan, TX', 'Fayetteville, AR',\n",
       "       'State College, PA', 'Charlottesville, VA', 'Mosinee, WI',\n",
       "       'Waco, TX', 'Midland/Odessa, TX', 'Fairbanks, AK', 'Ketchikan, AK',\n",
       "       'El Paso, TX', 'Providence, RI', 'Myrtle Beach, SC',\n",
       "       'Gainesville, FL', 'Billings, MT', 'Fresno, CA', 'Kalamazoo, MI',\n",
       "       'Palm Springs, CA', 'Pueblo, CO', 'Devils Lake, ND', 'Ontario, CA',\n",
       "       'Bismarck/Mandan, ND', 'Butte, MT', 'Marquette, MI',\n",
       "       'Long Beach, CA', 'Daytona Beach, FL', 'Columbia, SC', 'Yuma, AZ',\n",
       "       'Roswell, NM', 'Great Falls, MT', 'Erie, PA', 'Kalispell, MT',\n",
       "       'Cedar Rapids/Iowa City, IA', 'Lewisburg, WV', 'Williston, ND',\n",
       "       'Pellston, MI', 'La Crosse, WI', 'Aguadilla, PR',\n",
       "       'Bend/Redmond, OR', 'Portsmouth, NH', 'Hilo, HI', 'Roanoke, VA',\n",
       "       'Madison, WI', 'Akron, OH', 'West Palm Beach/Palm Beach, FL',\n",
       "       'St. Petersburg, FL', 'Charleston/Dunbar, WV', 'Dubuque, IA',\n",
       "       'Greenville, NC', 'Bloomington/Normal, IL', 'Meridian, MS',\n",
       "       'Columbus, GA', 'Aspen, CO', 'Santa Barbara, CA',\n",
       "       'Lawton/Fort Sill, OK', 'Abilene, TX', 'Kotzebue, AK',\n",
       "       'Tucson, AZ', 'Atlantic City, NJ', 'Sarasota/Bradenton, FL',\n",
       "       'Casper, WY', 'Scranton/Wilkes-Barre, PA', 'Mobile, AL',\n",
       "       'Latrobe, PA', 'Plattsburgh, NY', 'Redding, CA', 'Elko, NV',\n",
       "       'Bellingham, WA', 'Santa Rosa, CA', 'Sioux City, IA',\n",
       "       'Grand Junction, CO', 'Nantucket, MA', 'Lake Charles, LA',\n",
       "       'Laredo, TX', 'Bangor, ME', \"Martha's Vineyard, MA\", 'Cordova, AK',\n",
       "       'Petersburg, AK', 'Jackson, WY', 'Gunnison, CO', 'Staunton, VA',\n",
       "       'Springfield, IL', 'Moline, IL', 'Lansing, MI', 'Salisbury, MD',\n",
       "       'Eau Claire, WI', 'Rochester, MN',\n",
       "       'Bristol/Johnson City/Kingsport, TN', 'Toledo, OH',\n",
       "       'Chattanooga, TN', 'Laramie, WY', 'Alexandria, LA',\n",
       "       'Traverse City, MI', 'Trenton, NJ', 'South Bend, IN',\n",
       "       'Augusta, GA', 'Minot, ND', 'Fargo, ND', 'Bakersfield, CA',\n",
       "       'Twin Falls, ID', 'Yakima, WA', 'Sun Valley/Hailey/Ketchum, ID',\n",
       "       'Wichita Falls, TX', 'Barrow, AK', 'Harlingen/San Benito, TX',\n",
       "       'Alpena, MI', 'Binghamton, NY', 'Pago Pago, TT', 'Helena, MT',\n",
       "       'Dothan, AL', 'Flint, MI', 'Elmira/Corning, NY', 'Tallahassee, FL',\n",
       "       'Unalaska, AK', 'Santa Fe, NM', 'Longview, TX', 'Tyler, TX',\n",
       "       'Columbus, MS', 'Bemidji, MN', 'Arcata/Eureka, CA',\n",
       "       'Stillwater, OK', 'Fort Smith, AR', 'Muskegon, MI',\n",
       "       'Saginaw/Bay City/Midland, MI', 'Missoula, MT', 'Everett, WA',\n",
       "       'Concord, NC', 'Montrose/Delta, CO',\n",
       "       'Jacksonville/Camp Lejeune, NC', 'Hays, KS', 'Columbia, MO',\n",
       "       'Quincy, IL', 'International Falls, MN', 'Liberal, KS',\n",
       "       'Kapalua, HI', 'Stockton, CA', 'Williamsport, PA', 'Aberdeen, SD',\n",
       "       'Champaign/Urbana, IL', 'Iron Mountain/Kingsfd, MI',\n",
       "       'Hoolehua, HI', 'Lanai, HI', 'Dickinson, ND', 'Joplin, MO',\n",
       "       'Ithaca/Cortland, NY', 'Lewiston, ID', 'Sitka, AK', 'Ponce, PR',\n",
       "       'Beaumont/Port Arthur, TX', 'Charlotte Amalie, VI',\n",
       "       'Hilton Head, SC', 'Texarkana, AR', 'Manhattan/Ft. Riley, KS',\n",
       "       'Deadhorse, AK', 'Valdosta, GA', 'Moab, UT', 'Hibbing, MN',\n",
       "       'Pierre, SD', 'Vernal, UT', 'Del Rio, TX', 'Escanaba, MI',\n",
       "       'Ogdensburg, NY', 'Eagle, CO', 'Waterloo, IA', 'Brunswick, GA',\n",
       "       'Guam, TT', 'Hayden, CO', 'San Angelo, TX', 'Wrangell, AK',\n",
       "       'Pullman, WA', 'Scottsbluff, NE', 'Watertown, NY', 'Cody, WY',\n",
       "       'Branson, MO', 'Sault Ste. Marie, MI', 'North Platte, NE',\n",
       "       'Yakutat, AK', 'Hobbs, NM', 'Saipan, TT', 'Belleville, IL',\n",
       "       'Rhinelander, WI', 'Christiansted, VI', 'St. Cloud, MN',\n",
       "       'Albany, GA', 'Rockford, IL', 'Hancock/Houghton, MI',\n",
       "       'Prescott, AZ', 'Kearney, NE', 'Presque Isle/Houlton, ME',\n",
       "       'Niagara Falls, NY', 'Hagerstown, MD', 'Provo, UT', 'Salina, KS',\n",
       "       'Ogden, UT', 'West Yellowstone, MT', 'Nome, AK', 'Hyannis, MA',\n",
       "       'Brainerd, MN', 'Santa Maria, CA', 'Watertown, SD',\n",
       "       'Dillingham, AK', 'Rock Springs, WY', 'Cheyenne, WY',\n",
       "       'North Bend/Coos Bay, OR', 'King Salmon, AK', 'Adak Island, AK',\n",
       "       'Rota, TT', 'Gustavus, AK'], dtype=object)"
      ]
     },
     "execution_count": 32,
     "metadata": {},
     "output_type": "execute_result"
    }
   ],
   "source": [
    "df.origin_city_name.unique()"
   ]
  },
  {
   "cell_type": "code",
   "execution_count": null,
   "id": "f29d396c",
   "metadata": {},
   "outputs": [],
   "source": []
  },
  {
   "cell_type": "code",
   "execution_count": null,
   "id": "227dc70d",
   "metadata": {},
   "outputs": [],
   "source": []
  },
  {
   "cell_type": "code",
   "execution_count": null,
   "id": "52c2aca5",
   "metadata": {},
   "outputs": [],
   "source": []
  },
  {
   "cell_type": "code",
   "execution_count": null,
   "id": "05028de7",
   "metadata": {},
   "outputs": [],
   "source": []
  }
 ],
 "metadata": {
  "kernelspec": {
   "display_name": "Lighthouse_Labs",
   "language": "python",
   "name": "lighthouse_labs"
  },
  "language_info": {
   "codemirror_mode": {
    "name": "ipython",
    "version": 3
   },
   "file_extension": ".py",
   "mimetype": "text/x-python",
   "name": "python",
   "nbconvert_exporter": "python",
   "pygments_lexer": "ipython3",
   "version": "3.8.8"
  }
 },
 "nbformat": 4,
 "nbformat_minor": 5
}
