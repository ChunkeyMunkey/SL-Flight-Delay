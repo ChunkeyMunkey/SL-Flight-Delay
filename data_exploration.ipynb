{
 "cells": [
  {
   "cell_type": "code",
   "execution_count": 1,
   "id": "ee021981",
   "metadata": {},
   "outputs": [],
   "source": [
    "import pandas as pd\n",
    "import matplotlib.pyplot as plt\n",
    "import numpy as np\n",
    "import seaborn as sns\n",
    "import scipy"
   ]
  },
  {
   "cell_type": "code",
   "execution_count": 28,
   "id": "fc6c8d04",
   "metadata": {},
   "outputs": [],
   "source": [
    "df = pd.read_csv('Data/flights_cleaned.csv')"
   ]
  },
  {
   "cell_type": "code",
   "execution_count": 30,
   "id": "060c20ea",
   "metadata": {},
   "outputs": [
    {
     "data": {
      "text/plain": [
       "0         8\n",
       "1         8\n",
       "2         8\n",
       "3         8\n",
       "4         8\n",
       "         ..\n",
       "312788    8\n",
       "312789    8\n",
       "312790    8\n",
       "312791    8\n",
       "312792    8\n",
       "Name: months, Length: 312793, dtype: int64"
      ]
     },
     "execution_count": 30,
     "metadata": {},
     "output_type": "execute_result"
    }
   ],
   "source": [
    "df.months"
   ]
  },
  {
   "cell_type": "markdown",
   "id": "c5205260",
   "metadata": {},
   "source": [
    "# Task 1"
   ]
  },
  {
   "cell_type": "code",
   "execution_count": 12,
   "id": "49410d42",
   "metadata": {},
   "outputs": [
    {
     "data": {
      "image/png": "[encoded data removed]",
      "text/plain": [
       "<Figure size 432x288 with 1 Axes>"
      ]
     },
     "metadata": {
      "needs_background": "light"
     },
     "output_type": "display_data"
    }
   ],
   "source": [
    "sns.histplot(df.dep_delay)\n",
    "plt.xlim(-50, 250)\n",
    "plt.ylim(0, 20000)\n",
    "plt.show()"
   ]
  },
  {
   "cell_type": "code",
   "execution_count": 13,
   "id": "ff55cd9c",
   "metadata": {},
   "outputs": [
    {
     "data": {
      "text/plain": [
       "AndersonResult(statistic=56214.537472699536, critical_values=array([0.576, 0.656, 0.787, 0.918, 1.092]), significance_level=array([15. , 10. ,  5. ,  2.5,  1. ]))"
      ]
     },
     "execution_count": 13,
     "metadata": {},
     "output_type": "execute_result"
    }
   ],
   "source": [
    "# Anderson-Darling test for normality\n",
    "\n",
    "from scipy.stats import anderson\n",
    "\n",
    "scipy.stats.anderson(df.dep_delay, dist='norm')\n",
    "\n",
    "# The significance level below indicates the data is normally distributed."
   ]
  },
  {
   "cell_type": "code",
   "execution_count": null,
   "id": "d34d85b4",
   "metadata": {},
   "outputs": [],
   "source": []
  },
  {
   "cell_type": "markdown",
   "id": "2636556f",
   "metadata": {},
   "source": [
    "# Task 2: average/median monthly delay different during the year"
   ]
  },
  {
   "cell_type": "code",
   "execution_count": 31,
   "id": "88b11d9e",
   "metadata": {},
   "outputs": [
    {
     "name": "stderr",
     "output_type": "stream",
     "text": [
      "C:\\Users\\Sujan\\anaconda3\\lib\\site-packages\\seaborn\\_decorators.py:36: FutureWarning: Pass the following variables as keyword args: x, y. From version 0.12, the only valid positional argument will be `data`, and passing other arguments without an explicit keyword will result in an error or misinterpretation.\n",
      "  warnings.warn(\n"
     ]
    },
    {
     "data": {
      "text/plain": [
       "<AxesSubplot:xlabel='months', ylabel='dep_delay'>"
      ]
     },
     "execution_count": 31,
     "metadata": {},
     "output_type": "execute_result"
    },
    {
     "data": {
      "image/png": "[encoded data removed]",
      "text/plain": [
       "<Figure size 432x288 with 1 Axes>"
      ]
     },
     "metadata": {
      "needs_background": "light"
     },
     "output_type": "display_data"
    }
   ],
   "source": [
    "sns.barplot(df.months, df.dep_delay)"
   ]
  },
  {
   "cell_type": "code",
   "execution_count": 18,
   "id": "d9136c49",
   "metadata": {},
   "outputs": [],
   "source": [
    "# Month 6,7,8 (June, July, Aug) has the highest delays."
   ]
  },
  {
   "cell_type": "code",
   "execution_count": null,
   "id": "0b4daaff",
   "metadata": {},
   "outputs": [],
   "source": []
  },
  {
   "cell_type": "markdown",
   "id": "bebd66b9",
   "metadata": {},
   "source": [
    "# Task 3: # Does the weather affect the delay?"
   ]
  },
  {
   "cell_type": "code",
   "execution_count": null,
   "id": "63535923",
   "metadata": {},
   "outputs": [],
   "source": []
  },
  {
   "cell_type": "code",
   "execution_count": null,
   "id": "8316721c",
   "metadata": {},
   "outputs": [],
   "source": []
  },
  {
   "cell_type": "code",
   "execution_count": null,
   "id": "f1f9996e",
   "metadata": {},
   "outputs": [],
   "source": []
  },
  {
   "cell_type": "code",
   "execution_count": null,
   "id": "c558a4e9",
   "metadata": {},
   "outputs": [],
   "source": []
  },
  {
   "cell_type": "code",
   "execution_count": null,
   "id": "2420fe53",
   "metadata": {},
   "outputs": [],
   "source": []
  },
  {
   "cell_type": "code",
   "execution_count": null,
   "id": "762c7783",
   "metadata": {},
   "outputs": [],
   "source": []
  },
  {
   "cell_type": "markdown",
   "id": "3617d711",
   "metadata": {},
   "source": [
    "# Task 4: How taxi times changing during the day? Does higher traffic lead to bigger taxi times?"
   ]
  },
  {
   "cell_type": "code",
   "execution_count": 3,
   "id": "bde0ff81",
   "metadata": {},
   "outputs": [
    {
     "data": {
      "text/html": [
       "<div>\n",
       "<style scoped>\n",
       "    .dataframe tbody tr th:only-of-type {\n",
       "        vertical-align: middle;\n",
       "    }\n",
       "\n",
       "    .dataframe tbody tr th {\n",
       "        vertical-align: top;\n",
       "    }\n",
       "\n",
       "    .dataframe thead th {\n",
       "        text-align: right;\n",
       "    }\n",
       "</style>\n",
       "<table border=\"1\" class=\"dataframe\">\n",
       "  <thead>\n",
       "    <tr style=\"text-align: right;\">\n",
       "      <th></th>\n",
       "      <th>taxi_out</th>\n",
       "    </tr>\n",
       "    <tr>\n",
       "      <th>dep_time</th>\n",
       "      <th></th>\n",
       "    </tr>\n",
       "  </thead>\n",
       "  <tbody>\n",
       "    <tr>\n",
       "      <th>1.0</th>\n",
       "      <td>16.317073</td>\n",
       "    </tr>\n",
       "    <tr>\n",
       "      <th>2.0</th>\n",
       "      <td>17.208333</td>\n",
       "    </tr>\n",
       "    <tr>\n",
       "      <th>3.0</th>\n",
       "      <td>15.633333</td>\n",
       "    </tr>\n",
       "    <tr>\n",
       "      <th>4.0</th>\n",
       "      <td>19.351351</td>\n",
       "    </tr>\n",
       "    <tr>\n",
       "      <th>5.0</th>\n",
       "      <td>17.619048</td>\n",
       "    </tr>\n",
       "    <tr>\n",
       "      <th>...</th>\n",
       "      <td>...</td>\n",
       "    </tr>\n",
       "    <tr>\n",
       "      <th>2356.0</th>\n",
       "      <td>18.816327</td>\n",
       "    </tr>\n",
       "    <tr>\n",
       "      <th>2357.0</th>\n",
       "      <td>17.170732</td>\n",
       "    </tr>\n",
       "    <tr>\n",
       "      <th>2358.0</th>\n",
       "      <td>16.600000</td>\n",
       "    </tr>\n",
       "    <tr>\n",
       "      <th>2359.0</th>\n",
       "      <td>19.060606</td>\n",
       "    </tr>\n",
       "    <tr>\n",
       "      <th>2400.0</th>\n",
       "      <td>17.200000</td>\n",
       "    </tr>\n",
       "  </tbody>\n",
       "</table>\n",
       "<p>1408 rows × 1 columns</p>\n",
       "</div>"
      ],
      "text/plain": [
       "           taxi_out\n",
       "dep_time           \n",
       "1.0       16.317073\n",
       "2.0       17.208333\n",
       "3.0       15.633333\n",
       "4.0       19.351351\n",
       "5.0       17.619048\n",
       "...             ...\n",
       "2356.0    18.816327\n",
       "2357.0    17.170732\n",
       "2358.0    16.600000\n",
       "2359.0    19.060606\n",
       "2400.0    17.200000\n",
       "\n",
       "[1408 rows x 1 columns]"
      ]
     },
     "execution_count": 3,
     "metadata": {},
     "output_type": "execute_result"
    }
   ],
   "source": [
    "task4a = df.groupby(['dep_time'])['taxi_out'].mean()\n",
    "task4a = pd.DataFrame(task4a)\n",
    "task4a"
   ]
  },
  {
   "cell_type": "code",
   "execution_count": 4,
   "id": "ce99087f",
   "metadata": {},
   "outputs": [
    {
     "name": "stderr",
     "output_type": "stream",
     "text": [
      "C:\\Users\\Sujan\\anaconda3\\lib\\site-packages\\seaborn\\_decorators.py:36: FutureWarning: Pass the following variables as keyword args: x, y. From version 0.12, the only valid positional argument will be `data`, and passing other arguments without an explicit keyword will result in an error or misinterpretation.\n",
      "  warnings.warn(\n"
     ]
    },
    {
     "data": {
      "text/plain": [
       "<AxesSubplot:xlabel='dep_time', ylabel='taxi_out'>"
      ]
     },
     "execution_count": 4,
     "metadata": {},
     "output_type": "execute_result"
    },
    {
     "data": {
      "image/png": "[encoded data removed]",
      "text/plain": [
       "<Figure size 432x288 with 1 Axes>"
      ]
     },
     "metadata": {
      "needs_background": "light"
     },
     "output_type": "display_data"
    }
   ],
   "source": [
    "sns.scatterplot(task4a.index, task4a.taxi_out)"
   ]
  },
  {
   "cell_type": "code",
   "execution_count": 5,
   "id": "816ba06a",
   "metadata": {},
   "outputs": [],
   "source": [
    "# above figure shows the change in taxi time during the day"
   ]
  },
  {
   "cell_type": "code",
   "execution_count": 42,
   "id": "9643acc1",
   "metadata": {},
   "outputs": [
    {
     "data": {
      "text/plain": [
       "(0.0, 900.0)"
      ]
     },
     "execution_count": 42,
     "metadata": {},
     "output_type": "execute_result"
    },
    {
     "data": {
      "image/png": "[encoded data removed]",
      "text/plain": [
       "<Figure size 432x288 with 1 Axes>"
      ]
     },
     "metadata": {
      "needs_background": "light"
     },
     "output_type": "display_data"
    }
   ],
   "source": [
    "sns.barplot(y=task4b.taxi_out, x=task4b.index)\n",
    "plt.ylim(0,900)"
   ]
  },
  {
   "cell_type": "code",
   "execution_count": null,
   "id": "c86d84b5",
   "metadata": {},
   "outputs": [],
   "source": []
  },
  {
   "cell_type": "markdown",
   "id": "d8255b17",
   "metadata": {},
   "source": [
    "# Task 5: What is the average percentage of delays that is already created before departure? (aka are arrival delays caused by departure delays?) Are airlines able to lower the delay during the flights?"
   ]
  },
  {
   "cell_type": "code",
   "execution_count": 6,
   "id": "b6f3763f",
   "metadata": {},
   "outputs": [],
   "source": [
    "delay_caused_by_dep_delay = len(df[(df['dep_delay']>0) & df['arr_delay']>0 ])"
   ]
  },
  {
   "cell_type": "code",
   "execution_count": 7,
   "id": "65fa4e2c",
   "metadata": {},
   "outputs": [],
   "source": [
    "total_arr_delay = len(df[df['arr_delay']>0])"
   ]
  },
  {
   "cell_type": "code",
   "execution_count": 8,
   "id": "ffe100cf",
   "metadata": {},
   "outputs": [
    {
     "name": "stdout",
     "output_type": "stream",
     "text": [
      "On average percentage of arrival delays caused by departure delays: 95 %\n"
     ]
    }
   ],
   "source": [
    "per = (delay_caused_by_dep_delay / total_arr_delay)*100\n",
    "print(\"On average percentage of arrival delays caused by departure delays:\", round(per),'%')"
   ]
  },
  {
   "cell_type": "code",
   "execution_count": 9,
   "id": "7e575113",
   "metadata": {},
   "outputs": [
    {
     "data": {
      "text/plain": [
       "113.4454138290123"
      ]
     },
     "execution_count": 9,
     "metadata": {},
     "output_type": "execute_result"
    }
   ],
   "source": [
    "df[(df['dep_delay']>0) & df['arr_delay']>0 ]['air_time'].mean()"
   ]
  },
  {
   "cell_type": "code",
   "execution_count": 10,
   "id": "9a312bf7",
   "metadata": {},
   "outputs": [
    {
     "data": {
      "text/plain": [
       "107.9463527968604"
      ]
     },
     "execution_count": 10,
     "metadata": {},
     "output_type": "execute_result"
    }
   ],
   "source": [
    "df.air_time.mean()"
   ]
  },
  {
   "cell_type": "code",
   "execution_count": 11,
   "id": "66966b81",
   "metadata": {},
   "outputs": [],
   "source": [
    "# Since average air_time during delays is more, airlines are not able to lower the delay during the flights"
   ]
  },
  {
   "cell_type": "markdown",
   "id": "972cd077",
   "metadata": {},
   "source": [
    "# Task 6: How many states cover 50% of US air traffic?"
   ]
  },
  {
   "cell_type": "code",
   "execution_count": 43,
   "id": "98c00d09",
   "metadata": {},
   "outputs": [],
   "source": [
    "df[['city','state']] = df['origin_city_name'].str.split(',', expand=True, n=2)"
   ]
  },
  {
   "cell_type": "code",
   "execution_count": 64,
   "id": "8d9a15dc",
   "metadata": {},
   "outputs": [
    {
     "data": {
      "text/html": [
       "<div>\n",
       "<style scoped>\n",
       "    .dataframe tbody tr th:only-of-type {\n",
       "        vertical-align: middle;\n",
       "    }\n",
       "\n",
       "    .dataframe tbody tr th {\n",
       "        vertical-align: top;\n",
       "    }\n",
       "\n",
       "    .dataframe thead th {\n",
       "        text-align: right;\n",
       "    }\n",
       "</style>\n",
       "<table border=\"1\" class=\"dataframe\">\n",
       "  <thead>\n",
       "    <tr style=\"text-align: right;\">\n",
       "      <th></th>\n",
       "      <th>fl_date</th>\n",
       "      <th>mkt_unique_carrier</th>\n",
       "      <th>mkt_carrier_fl_num</th>\n",
       "      <th>origin_city_name</th>\n",
       "      <th>dest_city_name</th>\n",
       "      <th>crs_dep_time</th>\n",
       "      <th>dep_time</th>\n",
       "      <th>dep_delay</th>\n",
       "      <th>taxi_out</th>\n",
       "      <th>taxi_in</th>\n",
       "      <th>...</th>\n",
       "      <th>air_time</th>\n",
       "      <th>distance</th>\n",
       "      <th>carrier_delay</th>\n",
       "      <th>weather_delay</th>\n",
       "      <th>nas_delay</th>\n",
       "      <th>security_delay</th>\n",
       "      <th>late_aircraft_delay</th>\n",
       "      <th>months</th>\n",
       "      <th>city</th>\n",
       "      <th>state</th>\n",
       "    </tr>\n",
       "  </thead>\n",
       "  <tbody>\n",
       "    <tr>\n",
       "      <th>0</th>\n",
       "      <td>2018-08-20</td>\n",
       "      <td>UA</td>\n",
       "      <td>3656</td>\n",
       "      <td>Raleigh/Durham, NC</td>\n",
       "      <td>Newark, NJ</td>\n",
       "      <td>1535</td>\n",
       "      <td>1533.0</td>\n",
       "      <td>-2.0</td>\n",
       "      <td>17.0</td>\n",
       "      <td>9.0</td>\n",
       "      <td>...</td>\n",
       "      <td>77.0</td>\n",
       "      <td>416.0</td>\n",
       "      <td>0.0</td>\n",
       "      <td>0.0</td>\n",
       "      <td>0.0</td>\n",
       "      <td>0.0</td>\n",
       "      <td>0.0</td>\n",
       "      <td>8</td>\n",
       "      <td>Raleigh/Durham</td>\n",
       "      <td>NC</td>\n",
       "    </tr>\n",
       "    <tr>\n",
       "      <th>1</th>\n",
       "      <td>2018-08-20</td>\n",
       "      <td>UA</td>\n",
       "      <td>3723</td>\n",
       "      <td>Denver, CO</td>\n",
       "      <td>Charlotte, NC</td>\n",
       "      <td>1000</td>\n",
       "      <td>955.0</td>\n",
       "      <td>-5.0</td>\n",
       "      <td>27.0</td>\n",
       "      <td>12.0</td>\n",
       "      <td>...</td>\n",
       "      <td>163.0</td>\n",
       "      <td>1337.0</td>\n",
       "      <td>0.0</td>\n",
       "      <td>0.0</td>\n",
       "      <td>0.0</td>\n",
       "      <td>0.0</td>\n",
       "      <td>0.0</td>\n",
       "      <td>8</td>\n",
       "      <td>Denver</td>\n",
       "      <td>CO</td>\n",
       "    </tr>\n",
       "    <tr>\n",
       "      <th>2</th>\n",
       "      <td>2018-08-20</td>\n",
       "      <td>AA</td>\n",
       "      <td>4686</td>\n",
       "      <td>Philadelphia, PA</td>\n",
       "      <td>Oklahoma City, OK</td>\n",
       "      <td>2115</td>\n",
       "      <td>2118.0</td>\n",
       "      <td>3.0</td>\n",
       "      <td>21.0</td>\n",
       "      <td>17.0</td>\n",
       "      <td>...</td>\n",
       "      <td>171.0</td>\n",
       "      <td>1261.0</td>\n",
       "      <td>0.0</td>\n",
       "      <td>0.0</td>\n",
       "      <td>0.0</td>\n",
       "      <td>0.0</td>\n",
       "      <td>0.0</td>\n",
       "      <td>8</td>\n",
       "      <td>Philadelphia</td>\n",
       "      <td>PA</td>\n",
       "    </tr>\n",
       "    <tr>\n",
       "      <th>3</th>\n",
       "      <td>2018-08-20</td>\n",
       "      <td>AA</td>\n",
       "      <td>4694</td>\n",
       "      <td>Miami, FL</td>\n",
       "      <td>Key West, FL</td>\n",
       "      <td>2155</td>\n",
       "      <td>2149.0</td>\n",
       "      <td>-6.0</td>\n",
       "      <td>17.0</td>\n",
       "      <td>6.0</td>\n",
       "      <td>...</td>\n",
       "      <td>32.0</td>\n",
       "      <td>125.0</td>\n",
       "      <td>0.0</td>\n",
       "      <td>0.0</td>\n",
       "      <td>0.0</td>\n",
       "      <td>0.0</td>\n",
       "      <td>0.0</td>\n",
       "      <td>8</td>\n",
       "      <td>Miami</td>\n",
       "      <td>FL</td>\n",
       "    </tr>\n",
       "    <tr>\n",
       "      <th>4</th>\n",
       "      <td>2018-08-20</td>\n",
       "      <td>AA</td>\n",
       "      <td>2366</td>\n",
       "      <td>Chicago, IL</td>\n",
       "      <td>Atlanta, GA</td>\n",
       "      <td>1850</td>\n",
       "      <td>1856.0</td>\n",
       "      <td>6.0</td>\n",
       "      <td>23.0</td>\n",
       "      <td>6.0</td>\n",
       "      <td>...</td>\n",
       "      <td>92.0</td>\n",
       "      <td>606.0</td>\n",
       "      <td>0.0</td>\n",
       "      <td>0.0</td>\n",
       "      <td>0.0</td>\n",
       "      <td>0.0</td>\n",
       "      <td>0.0</td>\n",
       "      <td>8</td>\n",
       "      <td>Chicago</td>\n",
       "      <td>IL</td>\n",
       "    </tr>\n",
       "  </tbody>\n",
       "</table>\n",
       "<p>5 rows × 25 columns</p>\n",
       "</div>"
      ],
      "text/plain": [
       "      fl_date mkt_unique_carrier  mkt_carrier_fl_num    origin_city_name  \\\n",
       "0  2018-08-20                 UA                3656  Raleigh/Durham, NC   \n",
       "1  2018-08-20                 UA                3723          Denver, CO   \n",
       "2  2018-08-20                 AA                4686    Philadelphia, PA   \n",
       "3  2018-08-20                 AA                4694           Miami, FL   \n",
       "4  2018-08-20                 AA                2366         Chicago, IL   \n",
       "\n",
       "      dest_city_name  crs_dep_time  dep_time  dep_delay  taxi_out  taxi_in  \\\n",
       "0         Newark, NJ          1535    1533.0       -2.0      17.0      9.0   \n",
       "1      Charlotte, NC          1000     955.0       -5.0      27.0     12.0   \n",
       "2  Oklahoma City, OK          2115    2118.0        3.0      21.0     17.0   \n",
       "3       Key West, FL          2155    2149.0       -6.0      17.0      6.0   \n",
       "4        Atlanta, GA          1850    1856.0        6.0      23.0      6.0   \n",
       "\n",
       "   ...  air_time  distance  carrier_delay  weather_delay  nas_delay  \\\n",
       "0  ...      77.0     416.0            0.0            0.0        0.0   \n",
       "1  ...     163.0    1337.0            0.0            0.0        0.0   \n",
       "2  ...     171.0    1261.0            0.0            0.0        0.0   \n",
       "3  ...      32.0     125.0            0.0            0.0        0.0   \n",
       "4  ...      92.0     606.0            0.0            0.0        0.0   \n",
       "\n",
       "   security_delay  late_aircraft_delay  months            city  state  \n",
       "0             0.0                  0.0       8  Raleigh/Durham     NC  \n",
       "1             0.0                  0.0       8          Denver     CO  \n",
       "2             0.0                  0.0       8    Philadelphia     PA  \n",
       "3             0.0                  0.0       8           Miami     FL  \n",
       "4             0.0                  0.0       8         Chicago     IL  \n",
       "\n",
       "[5 rows x 25 columns]"
      ]
     },
     "execution_count": 64,
     "metadata": {},
     "output_type": "execute_result"
    }
   ],
   "source": [
    "task6 = df[df.city != 'ontario']\n",
    "task6.head()"
   ]
  },
  {
   "cell_type": "code",
   "execution_count": 83,
   "id": "3167bb8f",
   "metadata": {},
   "outputs": [
    {
     "data": {
      "text/plain": [
       "312793"
      ]
     },
     "execution_count": 83,
     "metadata": {},
     "output_type": "execute_result"
    }
   ],
   "source": [
    "state_US = task6.groupby(['state'])['state'].count().sort_values(ascending=False)\n",
    "state_US.sum()"
   ]
  },
  {
   "cell_type": "code",
   "execution_count": 202,
   "id": "509e0df1",
   "metadata": {},
   "outputs": [],
   "source": [
    "state_US = state_US.head(8)\n",
    "\n",
    "\n",
    "# This illustrates states with biggest air traffic that covers 50% air traffic.\n",
    "# This is calculated manually to get 50% of 312793 (total flights in US)"
   ]
  },
  {
   "cell_type": "code",
   "execution_count": 203,
   "id": "b6371e22",
   "metadata": {},
   "outputs": [
    {
     "data": {
      "text/plain": [
       "Text(0.5, 1.0, 'Flights Per State')"
      ]
     },
     "execution_count": 203,
     "metadata": {},
     "output_type": "execute_result"
    },
    {
     "data": {
      "image/png": "[encoded data removed]",
      "text/plain": [
       "<Figure size 1080x720 with 1 Axes>"
      ]
     },
     "metadata": {
      "needs_background": "light"
     },
     "output_type": "display_data"
    }
   ],
   "source": [
    "# Create Barplot\n",
    "\n",
    "fig, axes = plt.subplots(figsize=(15,10))\n",
    "sns.barplot(ax=axes, x=state_US.values, y=state_US.index)\n",
    "axes.set_xlabel('Flights')\n",
    "axes.set_ylabel('States')\n",
    "axes.set_title('Flights Per State')"
   ]
  },
  {
   "cell_type": "markdown",
   "id": "29a7940f",
   "metadata": {},
   "source": [
    "# Task 7: Test the hypothesis whether planes fly faster when there is the departure delay?"
   ]
  },
  {
   "cell_type": "code",
   "execution_count": 94,
   "id": "b2ce918e",
   "metadata": {},
   "outputs": [],
   "source": [
    "from scipy.stats import ttest_ind"
   ]
  },
  {
   "cell_type": "code",
   "execution_count": 93,
   "id": "de0949a8",
   "metadata": {},
   "outputs": [],
   "source": [
    "df['speed'] = df['distance']/df['air_time']"
   ]
  },
  {
   "cell_type": "code",
   "execution_count": 104,
   "id": "8b7d42e4",
   "metadata": {},
   "outputs": [],
   "source": [
    "delay = df[df['dep_delay']>0]['speed']\n",
    "no_delay = df[df['dep_delay']<=0]['speed']"
   ]
  },
  {
   "cell_type": "code",
   "execution_count": 105,
   "id": "5d2923c1",
   "metadata": {},
   "outputs": [
    {
     "data": {
      "text/plain": [
       "Ttest_indResult(statistic=35.75421927420929, pvalue=2.0970863750356454e-279)"
      ]
     },
     "execution_count": 105,
     "metadata": {},
     "output_type": "execute_result"
    }
   ],
   "source": [
    "ttest_ind(delay, no_delay)"
   ]
  },
  {
   "cell_type": "code",
   "execution_count": null,
   "id": "25ba86f4",
   "metadata": {},
   "outputs": [],
   "source": [
    "# Since, p value is greater than 0.05, we do not reject the null hypothesis.\n",
    "# Therefore, planes do not fly faster when there is a deparure delay."
   ]
  },
  {
   "cell_type": "code",
   "execution_count": null,
   "id": "f24c8070",
   "metadata": {},
   "outputs": [],
   "source": []
  },
  {
   "cell_type": "code",
   "execution_count": null,
   "id": "23be3598",
   "metadata": {},
   "outputs": [],
   "source": []
  },
  {
   "cell_type": "markdown",
   "id": "f9dc49b2",
   "metadata": {},
   "source": [
    "# Task 8: When (which hour) do most 'LONG', 'SHORT', 'MEDIUM' haul flights take off?"
   ]
  },
  {
   "cell_type": "code",
   "execution_count": 191,
   "id": "57bec484",
   "metadata": {},
   "outputs": [],
   "source": [
    "df_8 = df.copy(deep=True)"
   ]
  },
  {
   "cell_type": "code",
   "execution_count": 192,
   "id": "43899375",
   "metadata": {},
   "outputs": [],
   "source": [
    "# created bin based on air_time as below.\n",
    "# short = 0 - 90\n",
    "# medium = 90 - 240\n",
    "# long >= 240\n",
    "\n",
    "#Bin by duration\n",
    "short=df_8[df_8['air_time']<=90]\n",
    "medium=df_8[(df_8['air_time']> 90) & (df_8['air_time']<=240)]\n",
    "long=df_8[df_8['air_time']>=240]"
   ]
  },
  {
   "cell_type": "code",
   "execution_count": 193,
   "id": "2e13cc0a",
   "metadata": {},
   "outputs": [],
   "source": [
    "#Split into hours\n",
    "# df['dep_time'] = df['dep_time'].astype(int)\n",
    "# df['dep_time'] = pd.to_datetime(df['dep_time'], format='%H:%M')\n",
    "# df['dep_hr'] = df['dep_time'].dt.hour"
   ]
  },
  {
   "cell_type": "code",
   "execution_count": 195,
   "id": "99cb000c",
   "metadata": {},
   "outputs": [],
   "source": [
    "#Group and order values\n",
    "duration_short=short.groupby(by=[short['dep_time']])['taxi_out'].count().sort_values(ascending=False)\n",
    "duration_med=medium.groupby(by=[medium['dep_time']])['taxi_out'].count().sort_values(ascending=False)\n",
    "duration_long=long.groupby(by=[long['dep_time']])['taxi_out'].count().sort_values(ascending=False)"
   ]
  },
  {
   "cell_type": "code",
   "execution_count": 196,
   "id": "47693249",
   "metadata": {},
   "outputs": [
    {
     "data": {
      "text/plain": [
       "Text(0, 0.5, 'Flights')"
      ]
     },
     "execution_count": 196,
     "metadata": {},
     "output_type": "execute_result"
    },
    {
     "data": {
      "image/png": "[encoded data removed]",
      "text/plain": [
       "<Figure size 720x720 with 1 Axes>"
      ]
     },
     "metadata": {
      "needs_background": "light"
     },
     "output_type": "display_data"
    }
   ],
   "source": [
    "fig, ax=plt.subplots(figsize=(10, 10))\n",
    "sns.barplot(x=short_flights.index, y=short_flights.values)\n",
    "ax.set_title('Short Flights')\n",
    "ax.set_xlabel('Hours')\n",
    "ax.set_ylabel('Flights')"
   ]
  },
  {
   "cell_type": "code",
   "execution_count": 197,
   "id": "63acf295",
   "metadata": {},
   "outputs": [
    {
     "data": {
      "image/png": "[encoded data removed]",
      "text/plain": [
       "<Figure size 720x720 with 1 Axes>"
      ]
     },
     "metadata": {
      "needs_background": "light"
     },
     "output_type": "display_data"
    }
   ],
   "source": [
    "fig, ax=plt.subplots(figsize=(10, 10))\n",
    "sns.barplot(ax=ax, x=duration_med.index, y=duration_med.values)\n",
    "ax.set_title('Medium Flights')\n",
    "ax.set_xlabel('Hours')\n",
    "ax.set_ylabel('Flights')\n",
    "plt.savefig('Med_Flights.png')"
   ]
  },
  {
   "cell_type": "code",
   "execution_count": 198,
   "id": "2b346d32",
   "metadata": {},
   "outputs": [
    {
     "data": {
      "image/png": "[encoded data removed]",
      "text/plain": [
       "<Figure size 720x720 with 1 Axes>"
      ]
     },
     "metadata": {
      "needs_background": "light"
     },
     "output_type": "display_data"
    }
   ],
   "source": [
    "fig, ax=plt.subplots(figsize=(10, 10))\n",
    "sns.barplot(ax=ax, x=duration_long.index, y=duration_long.values)\n",
    "ax.set_title('Long Flights')\n",
    "ax.set_xlabel('Hours')\n",
    "ax.set_ylabel('Flights')\n",
    "plt.savefig('Long_Flights.png')"
   ]
  },
  {
   "cell_type": "markdown",
   "id": "937b81db",
   "metadata": {},
   "source": [
    "# Task 9: Find the top 10 the bussiest airports. Does the biggest number of flights mean that the biggest number of passengers went through the particular airport? How much traffic do these 10 airports cover?\n",
    " "
   ]
  },
  {
   "cell_type": "code",
   "execution_count": 204,
   "id": "aafe3924",
   "metadata": {},
   "outputs": [],
   "source": [
    "df_9 = df.copy(deep=True)"
   ]
  },
  {
   "cell_type": "code",
   "execution_count": 232,
   "id": "06bbb911",
   "metadata": {},
   "outputs": [
    {
     "data": {
      "text/plain": [
       "origin_city_name\n",
       "Chicago, IL              18740\n",
       "Atlanta, GA              15595\n",
       "New York, NY             11644\n",
       "Dallas/Fort Worth, TX    11437\n",
       "Denver, CO               11037\n",
       "Los Angeles, CA           9967\n",
       "Charlotte, NC             9756\n",
       "Houston, TX               9443\n",
       "Washington, DC            9086\n",
       "Seattle, WA               7458\n",
       "Name: taxi_in, dtype: int64"
      ]
     },
     "execution_count": 232,
     "metadata": {},
     "output_type": "execute_result"
    }
   ],
   "source": [
    "bussiest_airport = df_9.groupby('origin_city_name')['taxi_in'].count().sort_values(ascending=False).head(10)\n",
    "bussiest_airport"
   ]
  },
  {
   "cell_type": "code",
   "execution_count": 265,
   "id": "715aa0f9",
   "metadata": {},
   "outputs": [
    {
     "data": {
      "image/png": "[encoded data removed]",
      "text/plain": [
       "<Figure size 432x288 with 1 Axes>"
      ]
     },
     "metadata": {
      "needs_background": "light"
     },
     "output_type": "display_data"
    }
   ],
   "source": [
    "sns.barplot(x=bussiest_airport.values, y=bussiest_airport.index)\n",
    "plt.title('Top 10 bussiest airpot')\n",
    "plt.show()"
   ]
  },
  {
   "cell_type": "code",
   "execution_count": 214,
   "id": "5afd7381",
   "metadata": {},
   "outputs": [],
   "source": [
    "pax = pd.read_csv('Data/rawdata_passenger.csv')"
   ]
  },
  {
   "cell_type": "code",
   "execution_count": 264,
   "id": "bdabf953",
   "metadata": {},
   "outputs": [
    {
     "data": {
      "image/png": "[encoded data removed]",
      "text/plain": [
       "<Figure size 432x288 with 1 Axes>"
      ]
     },
     "metadata": {
      "needs_background": "light"
     },
     "output_type": "display_data"
    }
   ],
   "source": [
    "biggest_pax = pax.groupby('origin_city_name')['passengers'].sum().sort_values(ascending=False).head(10)\n",
    "sns.barplot(x=biggest_pax.values, y=biggest_pax.index)\n",
    "plt.title('top 10 airports with biggest number of passengers')\n",
    "plt.show()"
   ]
  },
  {
   "cell_type": "code",
   "execution_count": 229,
   "id": "06a2aecd",
   "metadata": {},
   "outputs": [],
   "source": [
    "# Yes biggest number of passengers travelled through these biggest airports"
   ]
  },
  {
   "cell_type": "code",
   "execution_count": 231,
   "id": "cc971d52",
   "metadata": {},
   "outputs": [],
   "source": [
    "big_airports = ['Chicago, IL','Atlanta, GA','New York, NY','Dallas/Fort Worth, TX',\n",
    "                'Denver, CO','Los Angeles, CA','Charlotte, NC','Houston, TX',\n",
    "                'Washington, DC','Seattle, WA'\n",
    "               ]"
   ]
  },
  {
   "cell_type": "code",
   "execution_count": 267,
   "id": "69f2d3fa",
   "metadata": {},
   "outputs": [
    {
     "name": "stdout",
     "output_type": "stream",
     "text": [
      "total passengers in top airports: 87516700\n"
     ]
    }
   ],
   "source": [
    "# for loop for calculating total number of passengers in the above list of top 10 airports\n",
    "\n",
    "count = 0\n",
    "\n",
    "for i in big_airports:\n",
    "    count += pax[(pax['origin_city_name']==i)]['passengers'].sum()\n",
    "\n",
    "print(\"total passengers in top airports:\",int(count))    "
   ]
  },
  {
   "cell_type": "code",
   "execution_count": 275,
   "id": "f66a4ed5",
   "metadata": {},
   "outputs": [
    {
     "name": "stdout",
     "output_type": "stream",
     "text": [
      "These 10 airports cover 36 % of the total traffic\n"
     ]
    }
   ],
   "source": [
    "print(\"These 10 airports cover\",int(round((count)/pax.passengers.sum()*100)),\"% of the total traffic\")"
   ]
  },
  {
   "cell_type": "code",
   "execution_count": null,
   "id": "8089dc0e",
   "metadata": {},
   "outputs": [],
   "source": []
  }
 ],
 "metadata": {
  "kernelspec": {
   "display_name": "MAIN",
   "language": "python",
   "name": "main"
  },
  "language_info": {
   "codemirror_mode": {
    "name": "ipython",
    "version": 3
   },
   "file_extension": ".py",
   "mimetype": "text/x-python",
   "name": "python",
   "nbconvert_exporter": "python",
   "pygments_lexer": "ipython3",
   "version": "3.9.7"
  }
 },
 "nbformat": 4,
 "nbformat_minor": 5
}
