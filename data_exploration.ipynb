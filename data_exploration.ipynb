{
 "cells": [
  {
   "cell_type": "code",
   "execution_count": 1,
   "id": "ee021981",
   "metadata": {},
   "outputs": [],
   "source": [
    "import pandas as pd\n",
    "import matplotlib.pyplot as plt\n",
    "import numpy as np\n",
    "import seaborn as sns\n",
    "import scipy"
   ]
  },
  {
   "cell_type": "code",
   "execution_count": 2,
   "id": "fc6c8d04",
   "metadata": {},
   "outputs": [],
   "source": [
    "df = pd.read_csv('Data/flights_cleaned.csv')"
   ]
  },
  {
   "cell_type": "code",
   "execution_count": 3,
   "id": "060c20ea",
   "metadata": {},
   "outputs": [
    {
     "data": {
      "text/plain": [
       "0         8\n",
       "1         8\n",
       "2         8\n",
       "3         8\n",
       "4         8\n",
       "         ..\n",
       "312788    8\n",
       "312789    8\n",
       "312790    8\n",
       "312791    8\n",
       "312792    8\n",
       "Name: months, Length: 312793, dtype: int64"
      ]
     },
     "execution_count": 3,
     "metadata": {},
     "output_type": "execute_result"
    }
   ],
   "source": [
    "df.months"
   ]
  },
  {
   "cell_type": "markdown",
   "id": "c5205260",
   "metadata": {},
   "source": [
    "# Task 1"
   ]
  },
  {
   "cell_type": "code",
   "execution_count": 4,
   "id": "49410d42",
   "metadata": {},
   "outputs": [
    {
     "data": {
      "image/png": "[encoded data removed]",
      "text/plain": [
       "<Figure size 432x288 with 1 Axes>"
      ]
     },
     "metadata": {
      "needs_background": "light"
     },
     "output_type": "display_data"
    }
   ],
   "source": [
    "sns.histplot(df.dep_delay)\n",
    "plt.xlim(-50, 250)\n",
    "plt.ylim(0, 20000)\n",
    "plt.show()"
   ]
  },
  {
   "cell_type": "code",
   "execution_count": 5,
   "id": "ff55cd9c",
   "metadata": {},
   "outputs": [
    {
     "data": {
      "text/plain": [
       "AndersonResult(statistic=56214.537472699536, critical_values=array([0.576, 0.656, 0.787, 0.918, 1.092]), significance_level=array([15. , 10. ,  5. ,  2.5,  1. ]))"
      ]
     },
     "execution_count": 5,
     "metadata": {},
     "output_type": "execute_result"
    }
   ],
   "source": [
    "# Anderson-Darling test for normality\n",
    "\n",
    "from scipy.stats import anderson\n",
    "\n",
    "scipy.stats.anderson(df.dep_delay, dist='norm')\n",
    "\n",
    "# The significance level below indicates the data is normally distributed."
   ]
  },
  {
   "cell_type": "code",
   "execution_count": null,
   "id": "d34d85b4",
   "metadata": {},
   "outputs": [],
   "source": []
  },
  {
   "cell_type": "markdown",
   "id": "2636556f",
   "metadata": {},
   "source": [
    "# Task 2: average/median monthly delay different during the year"
   ]
  },
  {
   "cell_type": "code",
   "execution_count": 6,
   "id": "88b11d9e",
   "metadata": {},
   "outputs": [
    {
     "name": "stderr",
     "output_type": "stream",
     "text": [
      "C:\\Users\\Sujan\\anaconda3\\lib\\site-packages\\seaborn\\_decorators.py:36: FutureWarning: Pass the following variables as keyword args: x, y. From version 0.12, the only valid positional argument will be `data`, and passing other arguments without an explicit keyword will result in an error or misinterpretation.\n",
      "  warnings.warn(\n"
     ]
    },
    {
     "data": {
      "text/plain": [
       "<AxesSubplot:xlabel='months', ylabel='dep_delay'>"
      ]
     },
     "execution_count": 6,
     "metadata": {},
     "output_type": "execute_result"
    },
    {
     "data": {
      "image/png": "[encoded data removed]",
      "text/plain": [
       "<Figure size 432x288 with 1 Axes>"
      ]
     },
     "metadata": {
      "needs_background": "light"
     },
     "output_type": "display_data"
    }
   ],
   "source": [
    "sns.barplot(df.months, df.dep_delay)"
   ]
  },
  {
   "cell_type": "code",
   "execution_count": 7,
   "id": "d9136c49",
   "metadata": {},
   "outputs": [],
   "source": [
    "# Month 6,7,8 (June, July, Aug) has the highest delays."
   ]
  },
  {
   "cell_type": "code",
   "execution_count": null,
   "id": "0b4daaff",
   "metadata": {},
   "outputs": [],
   "source": []
  },
  {
   "cell_type": "markdown",
   "id": "bebd66b9",
   "metadata": {},
   "source": [
    "# Task 3: # Does the weather affect the delay?"
   ]
  },
  {
   "cell_type": "code",
   "execution_count": null,
   "id": "63535923",
   "metadata": {},
   "outputs": [],
   "source": []
  },
  {
   "cell_type": "code",
   "execution_count": null,
   "id": "8316721c",
   "metadata": {},
   "outputs": [],
   "source": []
  },
  {
   "cell_type": "code",
   "execution_count": null,
   "id": "f1f9996e",
   "metadata": {},
   "outputs": [],
   "source": []
  },
  {
   "cell_type": "code",
   "execution_count": null,
   "id": "c558a4e9",
   "metadata": {},
   "outputs": [],
   "source": []
  },
  {
   "cell_type": "code",
   "execution_count": null,
   "id": "2420fe53",
   "metadata": {},
   "outputs": [],
   "source": []
  },
  {
   "cell_type": "code",
   "execution_count": null,
   "id": "762c7783",
   "metadata": {},
   "outputs": [],
   "source": []
  },
  {
   "cell_type": "markdown",
   "id": "3617d711",
   "metadata": {},
   "source": [
    "# Task 4: How taxi times changing during the day? Does higher traffic lead to bigger taxi times?"
   ]
  },
  {
   "cell_type": "code",
   "execution_count": 17,
   "id": "bde0ff81",
   "metadata": {},
   "outputs": [
    {
     "data": {
      "text/html": [
       "<div>\n",
       "<style scoped>\n",
       "    .dataframe tbody tr th:only-of-type {\n",
       "        vertical-align: middle;\n",
       "    }\n",
       "\n",
       "    .dataframe tbody tr th {\n",
       "        vertical-align: top;\n",
       "    }\n",
       "\n",
       "    .dataframe thead th {\n",
       "        text-align: right;\n",
       "    }\n",
       "</style>\n",
       "<table border=\"1\" class=\"dataframe\">\n",
       "  <thead>\n",
       "    <tr style=\"text-align: right;\">\n",
       "      <th></th>\n",
       "      <th>taxi_out</th>\n",
       "    </tr>\n",
       "    <tr>\n",
       "      <th>dep_time</th>\n",
       "      <th></th>\n",
       "    </tr>\n",
       "  </thead>\n",
       "  <tbody>\n",
       "    <tr>\n",
       "      <th>1.0</th>\n",
       "      <td>16.317073</td>\n",
       "    </tr>\n",
       "    <tr>\n",
       "      <th>2.0</th>\n",
       "      <td>17.208333</td>\n",
       "    </tr>\n",
       "    <tr>\n",
       "      <th>3.0</th>\n",
       "      <td>15.633333</td>\n",
       "    </tr>\n",
       "    <tr>\n",
       "      <th>4.0</th>\n",
       "      <td>19.351351</td>\n",
       "    </tr>\n",
       "    <tr>\n",
       "      <th>5.0</th>\n",
       "      <td>17.619048</td>\n",
       "    </tr>\n",
       "    <tr>\n",
       "      <th>...</th>\n",
       "      <td>...</td>\n",
       "    </tr>\n",
       "    <tr>\n",
       "      <th>2356.0</th>\n",
       "      <td>18.816327</td>\n",
       "    </tr>\n",
       "    <tr>\n",
       "      <th>2357.0</th>\n",
       "      <td>17.170732</td>\n",
       "    </tr>\n",
       "    <tr>\n",
       "      <th>2358.0</th>\n",
       "      <td>16.600000</td>\n",
       "    </tr>\n",
       "    <tr>\n",
       "      <th>2359.0</th>\n",
       "      <td>19.060606</td>\n",
       "    </tr>\n",
       "    <tr>\n",
       "      <th>2400.0</th>\n",
       "      <td>17.200000</td>\n",
       "    </tr>\n",
       "  </tbody>\n",
       "</table>\n",
       "<p>1408 rows × 1 columns</p>\n",
       "</div>"
      ],
      "text/plain": [
       "           taxi_out\n",
       "dep_time           \n",
       "1.0       16.317073\n",
       "2.0       17.208333\n",
       "3.0       15.633333\n",
       "4.0       19.351351\n",
       "5.0       17.619048\n",
       "...             ...\n",
       "2356.0    18.816327\n",
       "2357.0    17.170732\n",
       "2358.0    16.600000\n",
       "2359.0    19.060606\n",
       "2400.0    17.200000\n",
       "\n",
       "[1408 rows x 1 columns]"
      ]
     },
     "execution_count": 17,
     "metadata": {},
     "output_type": "execute_result"
    }
   ],
   "source": [
    "task4a = df.groupby(['dep_time'])['taxi_out'].mean()\n",
    "task4a = pd.DataFrame(task4a)\n",
    "task4a"
   ]
  },
  {
   "cell_type": "code",
   "execution_count": 18,
   "id": "c30ee4d8",
   "metadata": {},
   "outputs": [
    {
     "data": {
      "text/html": [
       "<div>\n",
       "<style scoped>\n",
       "    .dataframe tbody tr th:only-of-type {\n",
       "        vertical-align: middle;\n",
       "    }\n",
       "\n",
       "    .dataframe tbody tr th {\n",
       "        vertical-align: top;\n",
       "    }\n",
       "\n",
       "    .dataframe thead th {\n",
       "        text-align: right;\n",
       "    }\n",
       "</style>\n",
       "<table border=\"1\" class=\"dataframe\">\n",
       "  <thead>\n",
       "    <tr style=\"text-align: right;\">\n",
       "      <th></th>\n",
       "      <th>fl_date</th>\n",
       "      <th>mkt_unique_carrier</th>\n",
       "      <th>mkt_carrier_fl_num</th>\n",
       "      <th>origin_city_name</th>\n",
       "      <th>dest_city_name</th>\n",
       "      <th>crs_dep_time</th>\n",
       "      <th>dep_time</th>\n",
       "      <th>dep_delay</th>\n",
       "      <th>taxi_out</th>\n",
       "      <th>taxi_in</th>\n",
       "      <th>...</th>\n",
       "      <th>cancelled</th>\n",
       "      <th>diverted</th>\n",
       "      <th>air_time</th>\n",
       "      <th>distance</th>\n",
       "      <th>carrier_delay</th>\n",
       "      <th>weather_delay</th>\n",
       "      <th>nas_delay</th>\n",
       "      <th>security_delay</th>\n",
       "      <th>late_aircraft_delay</th>\n",
       "      <th>months</th>\n",
       "    </tr>\n",
       "  </thead>\n",
       "  <tbody>\n",
       "    <tr>\n",
       "      <th>0</th>\n",
       "      <td>2018-08-20</td>\n",
       "      <td>UA</td>\n",
       "      <td>3656</td>\n",
       "      <td>Raleigh/Durham, NC</td>\n",
       "      <td>Newark, NJ</td>\n",
       "      <td>1535</td>\n",
       "      <td>1533.0</td>\n",
       "      <td>-2.0</td>\n",
       "      <td>17.0</td>\n",
       "      <td>9.0</td>\n",
       "      <td>...</td>\n",
       "      <td>0.0</td>\n",
       "      <td>0.0</td>\n",
       "      <td>77.0</td>\n",
       "      <td>416.0</td>\n",
       "      <td>0.0</td>\n",
       "      <td>0.0</td>\n",
       "      <td>0.0</td>\n",
       "      <td>0.0</td>\n",
       "      <td>0.0</td>\n",
       "      <td>8</td>\n",
       "    </tr>\n",
       "    <tr>\n",
       "      <th>1</th>\n",
       "      <td>2018-08-20</td>\n",
       "      <td>UA</td>\n",
       "      <td>3723</td>\n",
       "      <td>Denver, CO</td>\n",
       "      <td>Charlotte, NC</td>\n",
       "      <td>1000</td>\n",
       "      <td>955.0</td>\n",
       "      <td>-5.0</td>\n",
       "      <td>27.0</td>\n",
       "      <td>12.0</td>\n",
       "      <td>...</td>\n",
       "      <td>0.0</td>\n",
       "      <td>0.0</td>\n",
       "      <td>163.0</td>\n",
       "      <td>1337.0</td>\n",
       "      <td>0.0</td>\n",
       "      <td>0.0</td>\n",
       "      <td>0.0</td>\n",
       "      <td>0.0</td>\n",
       "      <td>0.0</td>\n",
       "      <td>8</td>\n",
       "    </tr>\n",
       "    <tr>\n",
       "      <th>2</th>\n",
       "      <td>2018-08-20</td>\n",
       "      <td>AA</td>\n",
       "      <td>4686</td>\n",
       "      <td>Philadelphia, PA</td>\n",
       "      <td>Oklahoma City, OK</td>\n",
       "      <td>2115</td>\n",
       "      <td>2118.0</td>\n",
       "      <td>3.0</td>\n",
       "      <td>21.0</td>\n",
       "      <td>17.0</td>\n",
       "      <td>...</td>\n",
       "      <td>0.0</td>\n",
       "      <td>0.0</td>\n",
       "      <td>171.0</td>\n",
       "      <td>1261.0</td>\n",
       "      <td>0.0</td>\n",
       "      <td>0.0</td>\n",
       "      <td>0.0</td>\n",
       "      <td>0.0</td>\n",
       "      <td>0.0</td>\n",
       "      <td>8</td>\n",
       "    </tr>\n",
       "    <tr>\n",
       "      <th>3</th>\n",
       "      <td>2018-08-20</td>\n",
       "      <td>AA</td>\n",
       "      <td>4694</td>\n",
       "      <td>Miami, FL</td>\n",
       "      <td>Key West, FL</td>\n",
       "      <td>2155</td>\n",
       "      <td>2149.0</td>\n",
       "      <td>-6.0</td>\n",
       "      <td>17.0</td>\n",
       "      <td>6.0</td>\n",
       "      <td>...</td>\n",
       "      <td>0.0</td>\n",
       "      <td>0.0</td>\n",
       "      <td>32.0</td>\n",
       "      <td>125.0</td>\n",
       "      <td>0.0</td>\n",
       "      <td>0.0</td>\n",
       "      <td>0.0</td>\n",
       "      <td>0.0</td>\n",
       "      <td>0.0</td>\n",
       "      <td>8</td>\n",
       "    </tr>\n",
       "    <tr>\n",
       "      <th>4</th>\n",
       "      <td>2018-08-20</td>\n",
       "      <td>AA</td>\n",
       "      <td>2366</td>\n",
       "      <td>Chicago, IL</td>\n",
       "      <td>Atlanta, GA</td>\n",
       "      <td>1850</td>\n",
       "      <td>1856.0</td>\n",
       "      <td>6.0</td>\n",
       "      <td>23.0</td>\n",
       "      <td>6.0</td>\n",
       "      <td>...</td>\n",
       "      <td>0.0</td>\n",
       "      <td>0.0</td>\n",
       "      <td>92.0</td>\n",
       "      <td>606.0</td>\n",
       "      <td>0.0</td>\n",
       "      <td>0.0</td>\n",
       "      <td>0.0</td>\n",
       "      <td>0.0</td>\n",
       "      <td>0.0</td>\n",
       "      <td>8</td>\n",
       "    </tr>\n",
       "    <tr>\n",
       "      <th>...</th>\n",
       "      <td>...</td>\n",
       "      <td>...</td>\n",
       "      <td>...</td>\n",
       "      <td>...</td>\n",
       "      <td>...</td>\n",
       "      <td>...</td>\n",
       "      <td>...</td>\n",
       "      <td>...</td>\n",
       "      <td>...</td>\n",
       "      <td>...</td>\n",
       "      <td>...</td>\n",
       "      <td>...</td>\n",
       "      <td>...</td>\n",
       "      <td>...</td>\n",
       "      <td>...</td>\n",
       "      <td>...</td>\n",
       "      <td>...</td>\n",
       "      <td>...</td>\n",
       "      <td>...</td>\n",
       "      <td>...</td>\n",
       "      <td>...</td>\n",
       "    </tr>\n",
       "    <tr>\n",
       "      <th>312788</th>\n",
       "      <td>2018-08-20</td>\n",
       "      <td>WN</td>\n",
       "      <td>1193</td>\n",
       "      <td>Omaha, NE</td>\n",
       "      <td>Las Vegas, NV</td>\n",
       "      <td>1650</td>\n",
       "      <td>1642.0</td>\n",
       "      <td>-8.0</td>\n",
       "      <td>7.0</td>\n",
       "      <td>3.0</td>\n",
       "      <td>...</td>\n",
       "      <td>0.0</td>\n",
       "      <td>0.0</td>\n",
       "      <td>151.0</td>\n",
       "      <td>1099.0</td>\n",
       "      <td>0.0</td>\n",
       "      <td>0.0</td>\n",
       "      <td>0.0</td>\n",
       "      <td>0.0</td>\n",
       "      <td>0.0</td>\n",
       "      <td>8</td>\n",
       "    </tr>\n",
       "    <tr>\n",
       "      <th>312789</th>\n",
       "      <td>2018-08-20</td>\n",
       "      <td>WN</td>\n",
       "      <td>2299</td>\n",
       "      <td>Ontario, CA</td>\n",
       "      <td>Denver, CO</td>\n",
       "      <td>635</td>\n",
       "      <td>635.0</td>\n",
       "      <td>0.0</td>\n",
       "      <td>8.0</td>\n",
       "      <td>8.0</td>\n",
       "      <td>...</td>\n",
       "      <td>0.0</td>\n",
       "      <td>0.0</td>\n",
       "      <td>104.0</td>\n",
       "      <td>819.0</td>\n",
       "      <td>0.0</td>\n",
       "      <td>0.0</td>\n",
       "      <td>0.0</td>\n",
       "      <td>0.0</td>\n",
       "      <td>0.0</td>\n",
       "      <td>8</td>\n",
       "    </tr>\n",
       "    <tr>\n",
       "      <th>312790</th>\n",
       "      <td>2018-08-20</td>\n",
       "      <td>WN</td>\n",
       "      <td>791</td>\n",
       "      <td>Ontario, CA</td>\n",
       "      <td>Phoenix, AZ</td>\n",
       "      <td>2120</td>\n",
       "      <td>2117.0</td>\n",
       "      <td>-3.0</td>\n",
       "      <td>6.0</td>\n",
       "      <td>7.0</td>\n",
       "      <td>...</td>\n",
       "      <td>0.0</td>\n",
       "      <td>0.0</td>\n",
       "      <td>54.0</td>\n",
       "      <td>325.0</td>\n",
       "      <td>0.0</td>\n",
       "      <td>0.0</td>\n",
       "      <td>0.0</td>\n",
       "      <td>0.0</td>\n",
       "      <td>0.0</td>\n",
       "      <td>8</td>\n",
       "    </tr>\n",
       "    <tr>\n",
       "      <th>312791</th>\n",
       "      <td>2018-08-20</td>\n",
       "      <td>WN</td>\n",
       "      <td>1110</td>\n",
       "      <td>Phoenix, AZ</td>\n",
       "      <td>Los Angeles, CA</td>\n",
       "      <td>1435</td>\n",
       "      <td>1435.0</td>\n",
       "      <td>0.0</td>\n",
       "      <td>36.0</td>\n",
       "      <td>5.0</td>\n",
       "      <td>...</td>\n",
       "      <td>0.0</td>\n",
       "      <td>0.0</td>\n",
       "      <td>53.0</td>\n",
       "      <td>370.0</td>\n",
       "      <td>0.0</td>\n",
       "      <td>0.0</td>\n",
       "      <td>0.0</td>\n",
       "      <td>0.0</td>\n",
       "      <td>0.0</td>\n",
       "      <td>8</td>\n",
       "    </tr>\n",
       "    <tr>\n",
       "      <th>312792</th>\n",
       "      <td>2018-08-20</td>\n",
       "      <td>WN</td>\n",
       "      <td>1118</td>\n",
       "      <td>Phoenix, AZ</td>\n",
       "      <td>Los Angeles, CA</td>\n",
       "      <td>1740</td>\n",
       "      <td>1733.0</td>\n",
       "      <td>-7.0</td>\n",
       "      <td>13.0</td>\n",
       "      <td>12.0</td>\n",
       "      <td>...</td>\n",
       "      <td>0.0</td>\n",
       "      <td>0.0</td>\n",
       "      <td>58.0</td>\n",
       "      <td>370.0</td>\n",
       "      <td>0.0</td>\n",
       "      <td>0.0</td>\n",
       "      <td>0.0</td>\n",
       "      <td>0.0</td>\n",
       "      <td>0.0</td>\n",
       "      <td>8</td>\n",
       "    </tr>\n",
       "  </tbody>\n",
       "</table>\n",
       "<p>312793 rows × 23 columns</p>\n",
       "</div>"
      ],
      "text/plain": [
       "           fl_date mkt_unique_carrier  mkt_carrier_fl_num    origin_city_name  \\\n",
       "0       2018-08-20                 UA                3656  Raleigh/Durham, NC   \n",
       "1       2018-08-20                 UA                3723          Denver, CO   \n",
       "2       2018-08-20                 AA                4686    Philadelphia, PA   \n",
       "3       2018-08-20                 AA                4694           Miami, FL   \n",
       "4       2018-08-20                 AA                2366         Chicago, IL   \n",
       "...            ...                ...                 ...                 ...   \n",
       "312788  2018-08-20                 WN                1193           Omaha, NE   \n",
       "312789  2018-08-20                 WN                2299         Ontario, CA   \n",
       "312790  2018-08-20                 WN                 791         Ontario, CA   \n",
       "312791  2018-08-20                 WN                1110         Phoenix, AZ   \n",
       "312792  2018-08-20                 WN                1118         Phoenix, AZ   \n",
       "\n",
       "           dest_city_name  crs_dep_time  dep_time  dep_delay  taxi_out  \\\n",
       "0              Newark, NJ          1535    1533.0       -2.0      17.0   \n",
       "1           Charlotte, NC          1000     955.0       -5.0      27.0   \n",
       "2       Oklahoma City, OK          2115    2118.0        3.0      21.0   \n",
       "3            Key West, FL          2155    2149.0       -6.0      17.0   \n",
       "4             Atlanta, GA          1850    1856.0        6.0      23.0   \n",
       "...                   ...           ...       ...        ...       ...   \n",
       "312788      Las Vegas, NV          1650    1642.0       -8.0       7.0   \n",
       "312789         Denver, CO           635     635.0        0.0       8.0   \n",
       "312790        Phoenix, AZ          2120    2117.0       -3.0       6.0   \n",
       "312791    Los Angeles, CA          1435    1435.0        0.0      36.0   \n",
       "312792    Los Angeles, CA          1740    1733.0       -7.0      13.0   \n",
       "\n",
       "        taxi_in  ...  cancelled  diverted  air_time  distance  carrier_delay  \\\n",
       "0           9.0  ...        0.0       0.0      77.0     416.0            0.0   \n",
       "1          12.0  ...        0.0       0.0     163.0    1337.0            0.0   \n",
       "2          17.0  ...        0.0       0.0     171.0    1261.0            0.0   \n",
       "3           6.0  ...        0.0       0.0      32.0     125.0            0.0   \n",
       "4           6.0  ...        0.0       0.0      92.0     606.0            0.0   \n",
       "...         ...  ...        ...       ...       ...       ...            ...   \n",
       "312788      3.0  ...        0.0       0.0     151.0    1099.0            0.0   \n",
       "312789      8.0  ...        0.0       0.0     104.0     819.0            0.0   \n",
       "312790      7.0  ...        0.0       0.0      54.0     325.0            0.0   \n",
       "312791      5.0  ...        0.0       0.0      53.0     370.0            0.0   \n",
       "312792     12.0  ...        0.0       0.0      58.0     370.0            0.0   \n",
       "\n",
       "        weather_delay  nas_delay  security_delay  late_aircraft_delay  months  \n",
       "0                 0.0        0.0             0.0                  0.0       8  \n",
       "1                 0.0        0.0             0.0                  0.0       8  \n",
       "2                 0.0        0.0             0.0                  0.0       8  \n",
       "3                 0.0        0.0             0.0                  0.0       8  \n",
       "4                 0.0        0.0             0.0                  0.0       8  \n",
       "...               ...        ...             ...                  ...     ...  \n",
       "312788            0.0        0.0             0.0                  0.0       8  \n",
       "312789            0.0        0.0             0.0                  0.0       8  \n",
       "312790            0.0        0.0             0.0                  0.0       8  \n",
       "312791            0.0        0.0             0.0                  0.0       8  \n",
       "312792            0.0        0.0             0.0                  0.0       8  \n",
       "\n",
       "[312793 rows x 23 columns]"
      ]
     },
     "execution_count": 18,
     "metadata": {},
     "output_type": "execute_result"
    }
   ],
   "source": [
    "df"
   ]
  },
  {
   "cell_type": "code",
   "execution_count": 19,
   "id": "ce99087f",
   "metadata": {},
   "outputs": [
    {
     "name": "stderr",
     "output_type": "stream",
     "text": [
      "C:\\Users\\Sujan\\anaconda3\\lib\\site-packages\\seaborn\\_decorators.py:36: FutureWarning: Pass the following variables as keyword args: x, y. From version 0.12, the only valid positional argument will be `data`, and passing other arguments without an explicit keyword will result in an error or misinterpretation.\n",
      "  warnings.warn(\n"
     ]
    },
    {
     "data": {
      "text/plain": [
       "<AxesSubplot:xlabel='dep_time', ylabel='taxi_out'>"
      ]
     },
     "execution_count": 19,
     "metadata": {},
     "output_type": "execute_result"
    },
    {
     "data": {
      "image/png": "[encoded data removed]",
      "text/plain": [
       "<Figure size 432x288 with 1 Axes>"
      ]
     },
     "metadata": {
      "needs_background": "light"
     },
     "output_type": "display_data"
    }
   ],
   "source": [
    "sns.scatterplot(task4a.index, task4a.taxi_out)\n"
   ]
  },
  {
   "cell_type": "code",
   "execution_count": 10,
   "id": "816ba06a",
   "metadata": {},
   "outputs": [],
   "source": [
    "# above figure shows the change in taxi time during the day"
   ]
  },
  {
   "cell_type": "code",
   "execution_count": 28,
   "id": "42d5ea98",
   "metadata": {},
   "outputs": [
    {
     "data": {
      "text/html": [
       "<div>\n",
       "<style scoped>\n",
       "    .dataframe tbody tr th:only-of-type {\n",
       "        vertical-align: middle;\n",
       "    }\n",
       "\n",
       "    .dataframe tbody tr th {\n",
       "        vertical-align: top;\n",
       "    }\n",
       "\n",
       "    .dataframe thead th {\n",
       "        text-align: right;\n",
       "    }\n",
       "</style>\n",
       "<table border=\"1\" class=\"dataframe\">\n",
       "  <thead>\n",
       "    <tr style=\"text-align: right;\">\n",
       "      <th></th>\n",
       "      <th>taxi_in</th>\n",
       "    </tr>\n",
       "    <tr>\n",
       "      <th>arr_time</th>\n",
       "      <th></th>\n",
       "    </tr>\n",
       "  </thead>\n",
       "  <tbody>\n",
       "    <tr>\n",
       "      <th>1.0</th>\n",
       "      <td>181</td>\n",
       "    </tr>\n",
       "    <tr>\n",
       "      <th>2.0</th>\n",
       "      <td>182</td>\n",
       "    </tr>\n",
       "    <tr>\n",
       "      <th>3.0</th>\n",
       "      <td>167</td>\n",
       "    </tr>\n",
       "    <tr>\n",
       "      <th>4.0</th>\n",
       "      <td>152</td>\n",
       "    </tr>\n",
       "    <tr>\n",
       "      <th>5.0</th>\n",
       "      <td>152</td>\n",
       "    </tr>\n",
       "    <tr>\n",
       "      <th>...</th>\n",
       "      <td>...</td>\n",
       "    </tr>\n",
       "    <tr>\n",
       "      <th>2356.0</th>\n",
       "      <td>189</td>\n",
       "    </tr>\n",
       "    <tr>\n",
       "      <th>2357.0</th>\n",
       "      <td>183</td>\n",
       "    </tr>\n",
       "    <tr>\n",
       "      <th>2358.0</th>\n",
       "      <td>170</td>\n",
       "    </tr>\n",
       "    <tr>\n",
       "      <th>2359.0</th>\n",
       "      <td>156</td>\n",
       "    </tr>\n",
       "    <tr>\n",
       "      <th>2400.0</th>\n",
       "      <td>159</td>\n",
       "    </tr>\n",
       "  </tbody>\n",
       "</table>\n",
       "<p>1438 rows × 1 columns</p>\n",
       "</div>"
      ],
      "text/plain": [
       "          taxi_in\n",
       "arr_time         \n",
       "1.0           181\n",
       "2.0           182\n",
       "3.0           167\n",
       "4.0           152\n",
       "5.0           152\n",
       "...           ...\n",
       "2356.0        189\n",
       "2357.0        183\n",
       "2358.0        170\n",
       "2359.0        156\n",
       "2400.0        159\n",
       "\n",
       "[1438 rows x 1 columns]"
      ]
     },
     "execution_count": 28,
     "metadata": {},
     "output_type": "execute_result"
    }
   ],
   "source": [
    "task4b = df.groupby('arr_time')['taxi_in'].count()\n",
    "task4b = pd.DataFrame(task4b)\n",
    "task4b"
   ]
  },
  {
   "cell_type": "code",
   "execution_count": 30,
   "id": "9643acc1",
   "metadata": {},
   "outputs": [
    {
     "data": {
      "text/plain": [
       "(0.0, 900.0)"
      ]
     },
     "execution_count": 30,
     "metadata": {},
     "output_type": "execute_result"
    },
    {
     "data": {
      "image/png": "[encoded data removed]",
      "text/plain": [
       "<Figure size 432x288 with 1 Axes>"
      ]
     },
     "metadata": {
      "needs_background": "light"
     },
     "output_type": "display_data"
    }
   ],
   "source": [
    "sns.barplot(y=task4b.taxi_in, x=task4b.index)\n",
    "plt.ylabel('No. of trafffic')\n",
    "plt.ylim(0,900)"
   ]
  },
  {
   "cell_type": "code",
   "execution_count": null,
   "id": "c86d84b5",
   "metadata": {},
   "outputs": [],
   "source": [
    "# During morning times, the traffic seem to be low but the taxi time is significantly more \n",
    "# compared to other times of the day when the traffic is high."
   ]
  },
  {
   "cell_type": "markdown",
   "id": "d8255b17",
   "metadata": {},
   "source": [
    "# Task 5: What is the average percentage of delays that is already created before departure? (aka are arrival delays caused by departure delays?) Are airlines able to lower the delay during the flights?"
   ]
  },
  {
   "cell_type": "code",
   "execution_count": 31,
   "id": "b6f3763f",
   "metadata": {},
   "outputs": [],
   "source": [
    "delay_caused_by_dep_delay = len(df[(df['dep_delay']>0) & df['arr_delay']>0 ])"
   ]
  },
  {
   "cell_type": "code",
   "execution_count": 32,
   "id": "65fa4e2c",
   "metadata": {},
   "outputs": [],
   "source": [
    "total_arr_delay = len(df[df['arr_delay']>0])"
   ]
  },
  {
   "cell_type": "code",
   "execution_count": 33,
   "id": "ffe100cf",
   "metadata": {},
   "outputs": [
    {
     "name": "stdout",
     "output_type": "stream",
     "text": [
      "On average percentage of arrival delays caused by departure delays: 95 %\n"
     ]
    }
   ],
   "source": [
    "per = (delay_caused_by_dep_delay / total_arr_delay)*100\n",
    "print(\"On average percentage of arrival delays caused by departure delays:\", round(per),'%')"
   ]
  },
  {
   "cell_type": "code",
   "execution_count": 34,
   "id": "7e575113",
   "metadata": {},
   "outputs": [
    {
     "data": {
      "text/plain": [
       "113.4454138290123"
      ]
     },
     "execution_count": 34,
     "metadata": {},
     "output_type": "execute_result"
    }
   ],
   "source": [
    "df[(df['dep_delay']>0) & df['arr_delay']>0 ]['air_time'].mean()"
   ]
  },
  {
   "cell_type": "code",
   "execution_count": 35,
   "id": "9a312bf7",
   "metadata": {},
   "outputs": [
    {
     "data": {
      "text/plain": [
       "107.9463527968604"
      ]
     },
     "execution_count": 35,
     "metadata": {},
     "output_type": "execute_result"
    }
   ],
   "source": [
    "df.air_time.mean()"
   ]
  },
  {
   "cell_type": "code",
   "execution_count": null,
   "id": "66966b81",
   "metadata": {},
   "outputs": [],
   "source": [
    "# Since average air_time during delays is more, airlines are not able to lower the delay during the flights"
   ]
  },
  {
   "cell_type": "markdown",
   "id": "972cd077",
   "metadata": {},
   "source": [
    "# Task 6: How many states cover 50% of US air traffic?"
   ]
  },
  {
   "cell_type": "code",
   "execution_count": null,
   "id": "98c00d09",
   "metadata": {},
   "outputs": [],
   "source": [
    "df[['city','state']] = df['origin_city_name'].str.split(',', expand=True, n=2)"
   ]
  },
  {
   "cell_type": "code",
   "execution_count": null,
   "id": "8d9a15dc",
   "metadata": {},
   "outputs": [],
   "source": [
    "task6 = df[df.city != 'ontario']\n",
    "task6.head()"
   ]
  },
  {
   "cell_type": "code",
   "execution_count": null,
   "id": "3167bb8f",
   "metadata": {},
   "outputs": [],
   "source": [
    "state_US = task6.groupby(['state'])['state'].count().sort_values(ascending=False)\n",
    "state_US.sum()"
   ]
  },
  {
   "cell_type": "code",
   "execution_count": null,
   "id": "509e0df1",
   "metadata": {},
   "outputs": [],
   "source": [
    "state_US = state_US.head(8)\n",
    "\n",
    "\n",
    "# This illustrates states with biggest air traffic that covers 50% air traffic.\n",
    "# This is calculated manually to get 50% of 312793 (total flights in US)"
   ]
  },
  {
   "cell_type": "code",
   "execution_count": null,
   "id": "b6371e22",
   "metadata": {},
   "outputs": [],
   "source": [
    "# Create Barplot\n",
    "\n",
    "fig, axes = plt.subplots(figsize=(15,10))\n",
    "sns.barplot(ax=axes, x=state_US.values, y=state_US.index)\n",
    "axes.set_xlabel('Flights')\n",
    "axes.set_ylabel('States')\n",
    "axes.set_title('Flights Per State')"
   ]
  },
  {
   "cell_type": "markdown",
   "id": "29a7940f",
   "metadata": {},
   "source": [
    "# Task 7: Test the hypothesis whether planes fly faster when there is the departure delay?"
   ]
  },
  {
   "cell_type": "code",
   "execution_count": null,
   "id": "b2ce918e",
   "metadata": {},
   "outputs": [],
   "source": [
    "from scipy.stats import ttest_ind"
   ]
  },
  {
   "cell_type": "code",
   "execution_count": null,
   "id": "de0949a8",
   "metadata": {},
   "outputs": [],
   "source": [
    "df['speed'] = df['distance']/df['air_time']"
   ]
  },
  {
   "cell_type": "code",
   "execution_count": null,
   "id": "8b7d42e4",
   "metadata": {},
   "outputs": [],
   "source": [
    "delay = df[df['dep_delay']>0]['speed']\n",
    "no_delay = df[df['dep_delay']<=0]['speed']"
   ]
  },
  {
   "cell_type": "code",
   "execution_count": null,
   "id": "5d2923c1",
   "metadata": {},
   "outputs": [],
   "source": [
    "ttest_ind(delay, no_delay)"
   ]
  },
  {
   "cell_type": "code",
   "execution_count": null,
   "id": "25ba86f4",
   "metadata": {},
   "outputs": [],
   "source": [
    "# Since, p value is greater than 0.05, we do not reject the null hypothesis.\n",
    "# Therefore, planes do not fly faster when there is a deparure delay."
   ]
  },
  {
   "cell_type": "code",
   "execution_count": null,
   "id": "f24c8070",
   "metadata": {},
   "outputs": [],
   "source": []
  },
  {
   "cell_type": "code",
   "execution_count": null,
   "id": "23be3598",
   "metadata": {},
   "outputs": [],
   "source": []
  },
  {
   "cell_type": "markdown",
   "id": "f9dc49b2",
   "metadata": {},
   "source": [
    "# Task 8: When (which hour) do most 'LONG', 'SHORT', 'MEDIUM' haul flights take off?"
   ]
  },
  {
   "cell_type": "code",
   "execution_count": null,
   "id": "57bec484",
   "metadata": {},
   "outputs": [],
   "source": [
    "df_8 = df.copy(deep=True)"
   ]
  },
  {
   "cell_type": "code",
   "execution_count": null,
   "id": "43899375",
   "metadata": {},
   "outputs": [],
   "source": [
    "# created bin based on air_time as below.\n",
    "# short = 0 - 90\n",
    "# medium = 90 - 240\n",
    "# long >= 240\n",
    "\n",
    "#Bin by duration\n",
    "short=df_8[df_8['air_time']<=90]\n",
    "medium=df_8[(df_8['air_time']> 90) & (df_8['air_time']<=240)]\n",
    "long=df_8[df_8['air_time']>=240]"
   ]
  },
  {
   "cell_type": "code",
   "execution_count": null,
   "id": "2e13cc0a",
   "metadata": {},
   "outputs": [],
   "source": [
    "#Split into hours\n",
    "# df['dep_time'] = df['dep_time'].astype(int)\n",
    "# df['dep_time'] = pd.to_datetime(df['dep_time'], format='%H:%M')\n",
    "# df['dep_hr'] = df['dep_time'].dt.hour"
   ]
  },
  {
   "cell_type": "code",
   "execution_count": null,
   "id": "99cb000c",
   "metadata": {},
   "outputs": [],
   "source": [
    "#Group and order values\n",
    "duration_short=short.groupby(by=[short['dep_time']])['taxi_out'].count().sort_values(ascending=False)\n",
    "duration_med=medium.groupby(by=[medium['dep_time']])['taxi_out'].count().sort_values(ascending=False)\n",
    "duration_long=long.groupby(by=[long['dep_time']])['taxi_out'].count().sort_values(ascending=False)"
   ]
  },
  {
   "cell_type": "code",
   "execution_count": null,
   "id": "47693249",
   "metadata": {},
   "outputs": [],
   "source": [
    "fig, ax=plt.subplots(figsize=(10, 10))\n",
    "sns.barplot(x=short_flights.index, y=short_flights.values)\n",
    "ax.set_title('Short Flights')\n",
    "ax.set_xlabel('Hours')\n",
    "ax.set_ylabel('Flights')"
   ]
  },
  {
   "cell_type": "code",
   "execution_count": null,
   "id": "63acf295",
   "metadata": {},
   "outputs": [],
   "source": [
    "fig, ax=plt.subplots(figsize=(10, 10))\n",
    "sns.barplot(ax=ax, x=duration_med.index, y=duration_med.values)\n",
    "ax.set_title('Medium Flights')\n",
    "ax.set_xlabel('Hours')\n",
    "ax.set_ylabel('Flights')\n",
    "plt.savefig('Med_Flights.png')"
   ]
  },
  {
   "cell_type": "code",
   "execution_count": null,
   "id": "2b346d32",
   "metadata": {},
   "outputs": [],
   "source": [
    "fig, ax=plt.subplots(figsize=(10, 10))\n",
    "sns.barplot(ax=ax, x=duration_long.index, y=duration_long.values)\n",
    "ax.set_title('Long Flights')\n",
    "ax.set_xlabel('Hours')\n",
    "ax.set_ylabel('Flights')\n",
    "plt.savefig('Long_Flights.png')"
   ]
  },
  {
   "cell_type": "markdown",
   "id": "937b81db",
   "metadata": {},
   "source": [
    "# Task 9: Find the top 10 the bussiest airports. Does the biggest number of flights mean that the biggest number of passengers went through the particular airport? How much traffic do these 10 airports cover?\n",
    " "
   ]
  },
  {
   "cell_type": "code",
   "execution_count": 36,
   "id": "aafe3924",
   "metadata": {},
   "outputs": [],
   "source": [
    "df_9 = df.copy(deep=True)"
   ]
  },
  {
   "cell_type": "code",
   "execution_count": 37,
   "id": "06bbb911",
   "metadata": {},
   "outputs": [
    {
     "data": {
      "text/plain": [
       "origin_city_name\n",
       "Chicago, IL              18740\n",
       "Atlanta, GA              15595\n",
       "New York, NY             11644\n",
       "Dallas/Fort Worth, TX    11437\n",
       "Denver, CO               11037\n",
       "Los Angeles, CA           9967\n",
       "Charlotte, NC             9756\n",
       "Houston, TX               9443\n",
       "Washington, DC            9086\n",
       "Seattle, WA               7458\n",
       "Name: taxi_in, dtype: int64"
      ]
     },
     "execution_count": 37,
     "metadata": {},
     "output_type": "execute_result"
    }
   ],
   "source": [
    "bussiest_airport = df_9.groupby('origin_city_name')['taxi_in'].count().sort_values(ascending=False).head(10)\n",
    "bussiest_airport"
   ]
  },
  {
   "cell_type": "code",
   "execution_count": 38,
   "id": "715aa0f9",
   "metadata": {},
   "outputs": [
    {
     "data": {
      "image/png": "[encoded data removed]",
      "text/plain": [
       "<Figure size 432x288 with 1 Axes>"
      ]
     },
     "metadata": {
      "needs_background": "light"
     },
     "output_type": "display_data"
    }
   ],
   "source": [
    "sns.barplot(x=bussiest_airport.values, y=bussiest_airport.index)\n",
    "plt.title('Top 10 bussiest airpot')\n",
    "plt.show()"
   ]
  },
  {
   "cell_type": "code",
   "execution_count": 40,
   "id": "5afd7381",
   "metadata": {},
   "outputs": [],
   "source": [
    "pax = pd.read_csv('Data/rawdata_passenger.csv')"
   ]
  },
  {
   "cell_type": "code",
   "execution_count": 42,
   "id": "7300d563",
   "metadata": {},
   "outputs": [
    {
     "data": {
      "text/html": [
       "<div>\n",
       "<style scoped>\n",
       "    .dataframe tbody tr th:only-of-type {\n",
       "        vertical-align: middle;\n",
       "    }\n",
       "\n",
       "    .dataframe tbody tr th {\n",
       "        vertical-align: top;\n",
       "    }\n",
       "\n",
       "    .dataframe thead th {\n",
       "        text-align: right;\n",
       "    }\n",
       "</style>\n",
       "<table border=\"1\" class=\"dataframe\">\n",
       "  <thead>\n",
       "    <tr style=\"text-align: right;\">\n",
       "      <th></th>\n",
       "      <th>departures_scheduled</th>\n",
       "      <th>departures_performed</th>\n",
       "      <th>payload</th>\n",
       "      <th>seats</th>\n",
       "      <th>passengers</th>\n",
       "      <th>freight</th>\n",
       "      <th>mail</th>\n",
       "      <th>distance</th>\n",
       "      <th>ramp_to_ramp</th>\n",
       "      <th>air_time</th>\n",
       "      <th>...</th>\n",
       "      <th>dest_country</th>\n",
       "      <th>dest_country_name</th>\n",
       "      <th>aircraft_group</th>\n",
       "      <th>aircraft_type</th>\n",
       "      <th>aircraft_config</th>\n",
       "      <th>year</th>\n",
       "      <th>month</th>\n",
       "      <th>distance_group</th>\n",
       "      <th>class</th>\n",
       "      <th>data_source</th>\n",
       "    </tr>\n",
       "  </thead>\n",
       "  <tbody>\n",
       "    <tr>\n",
       "      <th>0</th>\n",
       "      <td>0.0</td>\n",
       "      <td>1.0</td>\n",
       "      <td>90500.0</td>\n",
       "      <td>276.0</td>\n",
       "      <td>0.0</td>\n",
       "      <td>0.0</td>\n",
       "      <td>0.0</td>\n",
       "      <td>175.0</td>\n",
       "      <td>66.0</td>\n",
       "      <td>30.0</td>\n",
       "      <td>...</td>\n",
       "      <td>US</td>\n",
       "      <td>United States</td>\n",
       "      <td>6</td>\n",
       "      <td>626</td>\n",
       "      <td>1</td>\n",
       "      <td>2015</td>\n",
       "      <td>7</td>\n",
       "      <td>1</td>\n",
       "      <td>L</td>\n",
       "      <td>DU</td>\n",
       "    </tr>\n",
       "    <tr>\n",
       "      <th>1</th>\n",
       "      <td>0.0</td>\n",
       "      <td>60.0</td>\n",
       "      <td>210000.0</td>\n",
       "      <td>803.0</td>\n",
       "      <td>795.0</td>\n",
       "      <td>0.0</td>\n",
       "      <td>0.0</td>\n",
       "      <td>94.0</td>\n",
       "      <td>2856.0</td>\n",
       "      <td>2376.0</td>\n",
       "      <td>...</td>\n",
       "      <td>US</td>\n",
       "      <td>United States</td>\n",
       "      <td>4</td>\n",
       "      <td>485</td>\n",
       "      <td>1</td>\n",
       "      <td>2015</td>\n",
       "      <td>7</td>\n",
       "      <td>1</td>\n",
       "      <td>L</td>\n",
       "      <td>DU</td>\n",
       "    </tr>\n",
       "    <tr>\n",
       "      <th>2</th>\n",
       "      <td>0.0</td>\n",
       "      <td>25.0</td>\n",
       "      <td>80000.0</td>\n",
       "      <td>194.0</td>\n",
       "      <td>190.0</td>\n",
       "      <td>0.0</td>\n",
       "      <td>0.0</td>\n",
       "      <td>96.0</td>\n",
       "      <td>1186.0</td>\n",
       "      <td>986.0</td>\n",
       "      <td>...</td>\n",
       "      <td>US</td>\n",
       "      <td>United States</td>\n",
       "      <td>4</td>\n",
       "      <td>416</td>\n",
       "      <td>1</td>\n",
       "      <td>2015</td>\n",
       "      <td>7</td>\n",
       "      <td>1</td>\n",
       "      <td>L</td>\n",
       "      <td>DU</td>\n",
       "    </tr>\n",
       "    <tr>\n",
       "      <th>3</th>\n",
       "      <td>0.0</td>\n",
       "      <td>20.0</td>\n",
       "      <td>64000.0</td>\n",
       "      <td>161.0</td>\n",
       "      <td>145.0</td>\n",
       "      <td>0.0</td>\n",
       "      <td>0.0</td>\n",
       "      <td>152.0</td>\n",
       "      <td>1311.0</td>\n",
       "      <td>1151.0</td>\n",
       "      <td>...</td>\n",
       "      <td>US</td>\n",
       "      <td>United States</td>\n",
       "      <td>4</td>\n",
       "      <td>416</td>\n",
       "      <td>1</td>\n",
       "      <td>2015</td>\n",
       "      <td>7</td>\n",
       "      <td>1</td>\n",
       "      <td>L</td>\n",
       "      <td>DU</td>\n",
       "    </tr>\n",
       "    <tr>\n",
       "      <th>4</th>\n",
       "      <td>0.0</td>\n",
       "      <td>13.0</td>\n",
       "      <td>41600.0</td>\n",
       "      <td>4.0</td>\n",
       "      <td>4.0</td>\n",
       "      <td>0.0</td>\n",
       "      <td>0.0</td>\n",
       "      <td>65.0</td>\n",
       "      <td>499.0</td>\n",
       "      <td>395.0</td>\n",
       "      <td>...</td>\n",
       "      <td>US</td>\n",
       "      <td>United States</td>\n",
       "      <td>4</td>\n",
       "      <td>416</td>\n",
       "      <td>1</td>\n",
       "      <td>2015</td>\n",
       "      <td>7</td>\n",
       "      <td>1</td>\n",
       "      <td>L</td>\n",
       "      <td>DU</td>\n",
       "    </tr>\n",
       "    <tr>\n",
       "      <th>...</th>\n",
       "      <td>...</td>\n",
       "      <td>...</td>\n",
       "      <td>...</td>\n",
       "      <td>...</td>\n",
       "      <td>...</td>\n",
       "      <td>...</td>\n",
       "      <td>...</td>\n",
       "      <td>...</td>\n",
       "      <td>...</td>\n",
       "      <td>...</td>\n",
       "      <td>...</td>\n",
       "      <td>...</td>\n",
       "      <td>...</td>\n",
       "      <td>...</td>\n",
       "      <td>...</td>\n",
       "      <td>...</td>\n",
       "      <td>...</td>\n",
       "      <td>...</td>\n",
       "      <td>...</td>\n",
       "      <td>...</td>\n",
       "      <td>...</td>\n",
       "    </tr>\n",
       "    <tr>\n",
       "      <th>117583</th>\n",
       "      <td>0.0</td>\n",
       "      <td>2.0</td>\n",
       "      <td>181000.0</td>\n",
       "      <td>551.0</td>\n",
       "      <td>392.0</td>\n",
       "      <td>0.0</td>\n",
       "      <td>0.0</td>\n",
       "      <td>3631.0</td>\n",
       "      <td>810.0</td>\n",
       "      <td>762.0</td>\n",
       "      <td>...</td>\n",
       "      <td>IE</td>\n",
       "      <td>Ireland</td>\n",
       "      <td>6</td>\n",
       "      <td>626</td>\n",
       "      <td>1</td>\n",
       "      <td>2015</td>\n",
       "      <td>7</td>\n",
       "      <td>8</td>\n",
       "      <td>L</td>\n",
       "      <td>IU</td>\n",
       "    </tr>\n",
       "    <tr>\n",
       "      <th>117584</th>\n",
       "      <td>0.0</td>\n",
       "      <td>1.0</td>\n",
       "      <td>315000.0</td>\n",
       "      <td>380.0</td>\n",
       "      <td>0.0</td>\n",
       "      <td>0.0</td>\n",
       "      <td>0.0</td>\n",
       "      <td>1471.0</td>\n",
       "      <td>198.0</td>\n",
       "      <td>186.0</td>\n",
       "      <td>...</td>\n",
       "      <td>US</td>\n",
       "      <td>United States</td>\n",
       "      <td>6</td>\n",
       "      <td>627</td>\n",
       "      <td>1</td>\n",
       "      <td>2015</td>\n",
       "      <td>7</td>\n",
       "      <td>3</td>\n",
       "      <td>L</td>\n",
       "      <td>IU</td>\n",
       "    </tr>\n",
       "    <tr>\n",
       "      <th>117585</th>\n",
       "      <td>0.0</td>\n",
       "      <td>4.0</td>\n",
       "      <td>362000.0</td>\n",
       "      <td>1105.0</td>\n",
       "      <td>934.0</td>\n",
       "      <td>0.0</td>\n",
       "      <td>0.0</td>\n",
       "      <td>4811.0</td>\n",
       "      <td>2544.0</td>\n",
       "      <td>2406.0</td>\n",
       "      <td>...</td>\n",
       "      <td>JP</td>\n",
       "      <td>Japan</td>\n",
       "      <td>6</td>\n",
       "      <td>626</td>\n",
       "      <td>1</td>\n",
       "      <td>2015</td>\n",
       "      <td>7</td>\n",
       "      <td>10</td>\n",
       "      <td>L</td>\n",
       "      <td>IU</td>\n",
       "    </tr>\n",
       "    <tr>\n",
       "      <th>117586</th>\n",
       "      <td>0.0</td>\n",
       "      <td>4.0</td>\n",
       "      <td>365000.0</td>\n",
       "      <td>1100.0</td>\n",
       "      <td>602.0</td>\n",
       "      <td>0.0</td>\n",
       "      <td>0.0</td>\n",
       "      <td>2709.0</td>\n",
       "      <td>1482.0</td>\n",
       "      <td>1386.0</td>\n",
       "      <td>...</td>\n",
       "      <td>US</td>\n",
       "      <td>United States</td>\n",
       "      <td>6</td>\n",
       "      <td>626</td>\n",
       "      <td>1</td>\n",
       "      <td>2015</td>\n",
       "      <td>7</td>\n",
       "      <td>6</td>\n",
       "      <td>L</td>\n",
       "      <td>IU</td>\n",
       "    </tr>\n",
       "    <tr>\n",
       "      <th>117587</th>\n",
       "      <td>0.0</td>\n",
       "      <td>1.0</td>\n",
       "      <td>90500.0</td>\n",
       "      <td>276.0</td>\n",
       "      <td>189.0</td>\n",
       "      <td>0.0</td>\n",
       "      <td>0.0</td>\n",
       "      <td>4273.0</td>\n",
       "      <td>558.0</td>\n",
       "      <td>540.0</td>\n",
       "      <td>...</td>\n",
       "      <td>US</td>\n",
       "      <td>United States</td>\n",
       "      <td>6</td>\n",
       "      <td>626</td>\n",
       "      <td>1</td>\n",
       "      <td>2015</td>\n",
       "      <td>7</td>\n",
       "      <td>9</td>\n",
       "      <td>L</td>\n",
       "      <td>IU</td>\n",
       "    </tr>\n",
       "  </tbody>\n",
       "</table>\n",
       "<p>117588 rows × 38 columns</p>\n",
       "</div>"
      ],
      "text/plain": [
       "        departures_scheduled  departures_performed   payload   seats  \\\n",
       "0                        0.0                   1.0   90500.0   276.0   \n",
       "1                        0.0                  60.0  210000.0   803.0   \n",
       "2                        0.0                  25.0   80000.0   194.0   \n",
       "3                        0.0                  20.0   64000.0   161.0   \n",
       "4                        0.0                  13.0   41600.0     4.0   \n",
       "...                      ...                   ...       ...     ...   \n",
       "117583                   0.0                   2.0  181000.0   551.0   \n",
       "117584                   0.0                   1.0  315000.0   380.0   \n",
       "117585                   0.0                   4.0  362000.0  1105.0   \n",
       "117586                   0.0                   4.0  365000.0  1100.0   \n",
       "117587                   0.0                   1.0   90500.0   276.0   \n",
       "\n",
       "        passengers  freight  mail  distance  ramp_to_ramp  air_time  ...  \\\n",
       "0              0.0      0.0   0.0     175.0          66.0      30.0  ...   \n",
       "1            795.0      0.0   0.0      94.0        2856.0    2376.0  ...   \n",
       "2            190.0      0.0   0.0      96.0        1186.0     986.0  ...   \n",
       "3            145.0      0.0   0.0     152.0        1311.0    1151.0  ...   \n",
       "4              4.0      0.0   0.0      65.0         499.0     395.0  ...   \n",
       "...            ...      ...   ...       ...           ...       ...  ...   \n",
       "117583       392.0      0.0   0.0    3631.0         810.0     762.0  ...   \n",
       "117584         0.0      0.0   0.0    1471.0         198.0     186.0  ...   \n",
       "117585       934.0      0.0   0.0    4811.0        2544.0    2406.0  ...   \n",
       "117586       602.0      0.0   0.0    2709.0        1482.0    1386.0  ...   \n",
       "117587       189.0      0.0   0.0    4273.0         558.0     540.0  ...   \n",
       "\n",
       "       dest_country  dest_country_name aircraft_group aircraft_type  \\\n",
       "0                US      United States              6           626   \n",
       "1                US      United States              4           485   \n",
       "2                US      United States              4           416   \n",
       "3                US      United States              4           416   \n",
       "4                US      United States              4           416   \n",
       "...             ...                ...            ...           ...   \n",
       "117583           IE            Ireland              6           626   \n",
       "117584           US      United States              6           627   \n",
       "117585           JP              Japan              6           626   \n",
       "117586           US      United States              6           626   \n",
       "117587           US      United States              6           626   \n",
       "\n",
       "       aircraft_config  year  month  distance_group  class  data_source  \n",
       "0                    1  2015      7               1      L           DU  \n",
       "1                    1  2015      7               1      L           DU  \n",
       "2                    1  2015      7               1      L           DU  \n",
       "3                    1  2015      7               1      L           DU  \n",
       "4                    1  2015      7               1      L           DU  \n",
       "...                ...   ...    ...             ...    ...          ...  \n",
       "117583               1  2015      7               8      L           IU  \n",
       "117584               1  2015      7               3      L           IU  \n",
       "117585               1  2015      7              10      L           IU  \n",
       "117586               1  2015      7               6      L           IU  \n",
       "117587               1  2015      7               9      L           IU  \n",
       "\n",
       "[117588 rows x 38 columns]"
      ]
     },
     "execution_count": 42,
     "metadata": {},
     "output_type": "execute_result"
    }
   ],
   "source": [
    "pax"
   ]
  },
  {
   "cell_type": "code",
   "execution_count": 41,
   "id": "bdabf953",
   "metadata": {},
   "outputs": [
    {
     "data": {
      "image/png": "[encoded data removed]",
      "text/plain": [
       "<Figure size 432x288 with 1 Axes>"
      ]
     },
     "metadata": {
      "needs_background": "light"
     },
     "output_type": "display_data"
    }
   ],
   "source": [
    "biggest_pax = pax.groupby('origin_city_name')['passengers'].sum().sort_values(ascending=False).head(10)\n",
    "sns.barplot(x=biggest_pax.values, y=biggest_pax.index)\n",
    "plt.title('top 10 airports with biggest number of passengers')\n",
    "plt.show()"
   ]
  },
  {
   "cell_type": "code",
   "execution_count": null,
   "id": "06a2aecd",
   "metadata": {},
   "outputs": [],
   "source": [
    "# Yes biggest number of passengers travelled through these biggest airports"
   ]
  },
  {
   "cell_type": "code",
   "execution_count": null,
   "id": "cc971d52",
   "metadata": {},
   "outputs": [],
   "source": [
    "big_airports = ['Chicago, IL','Atlanta, GA','New York, NY','Dallas/Fort Worth, TX',\n",
    "                'Denver, CO','Los Angeles, CA','Charlotte, NC','Houston, TX',\n",
    "                'Washington, DC','Seattle, WA'\n",
    "               ]"
   ]
  },
  {
   "cell_type": "code",
   "execution_count": null,
   "id": "69f2d3fa",
   "metadata": {},
   "outputs": [],
   "source": [
    "# for loop for calculating total number of passengers in the above list of top 10 airports\n",
    "\n",
    "count = 0\n",
    "\n",
    "for i in big_airports:\n",
    "    count += pax[(pax['origin_city_name']==i)]['passengers'].sum()\n",
    "\n",
    "print(\"total passengers in top airports:\",int(count))    "
   ]
  },
  {
   "cell_type": "code",
   "execution_count": null,
   "id": "f66a4ed5",
   "metadata": {},
   "outputs": [],
   "source": [
    "print(\"These 10 airports cover\",int(round((count)/pax.passengers.sum())*100),\"% of the total traffic\")"
   ]
  },
  {
   "cell_type": "code",
   "execution_count": null,
   "id": "8089dc0e",
   "metadata": {},
   "outputs": [],
   "source": []
  }
 ],
 "metadata": {
  "kernelspec": {
   "display_name": "Lighthouse_Labs",
   "language": "python",
   "name": "lighthouse_labs"
  },
  "language_info": {
   "codemirror_mode": {
    "name": "ipython",
    "version": 3
   },
   "file_extension": ".py",
   "mimetype": "text/x-python",
   "name": "python",
   "nbconvert_exporter": "python",
   "pygments_lexer": "ipython3",
   "version": "3.8.8"
  }
 },
 "nbformat": 4,
 "nbformat_minor": 5
}
